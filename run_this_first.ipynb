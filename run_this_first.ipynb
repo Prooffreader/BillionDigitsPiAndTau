{
 "metadata": {
  "name": "run_this_first.ipynb"
 },
 "nbformat": 3,
 "nbformat_minor": 0,
 "worksheets": [
  {
   "cells": [
    {
     "cell_type": "markdown",
     "metadata": {},
     "source": [
      "# run_this_first.ipynb\n",
      "\n",
      "You will need to download and place in the ``/data`` folder the following files from ftp://pi.super-computing.org/:\n",
      "\n",
      "* pi100m.hexbin.000\n",
      "* pi100m.hexbin.001\n",
      "* pi100m.hexbin.002\n",
      "* pi100m.hexbin.003\n",
      "* pi100m.hexbin.004\n",
      "* pi100m.hexbin.005\n",
      "* pi100m.hexbin.006\n",
      "* pi100m.hexbin.007\n",
      "* pi100m.hexbin.008\n",
      "* pi100m.hexbin.009\n",
      "\n",
      "Each one is 100 million digits of pi encoded as a hexadecimal byte.\n",
      "\n",
      "This script will convert them to decimal text files."
     ]
    },
    {
     "cell_type": "code",
     "collapsed": false,
     "input": [
      "import os\n",
      "\n",
      "for i in range(10):\n",
      "    infilename = 'data/pi100m.hexbin.00' + str(i)\n",
      "    outfilename = 'data/pi100m.dectxt.00' + str(i)\n",
      "    if not os.path.isfile(outfilename): #nothing will be carried out if decimal text file already exists\n",
      "        with open(infilename, 'rb') as fin:\n",
      "            pi_partial = fin.read().encode('hex')\n",
      "        print \"Processing %s, %d digits, %s...%s\" % (outfilename,\n",
      "                                                     len(pi_partial), \n",
      "                                                     pi_partial[:20],\n",
      "                                                     pi_partial[-20:])\n",
      "        with open(outfilename, 'w+') as fout:\n",
      "            fout.write(pi_partial)\n",
      "        "
     ],
     "language": "python",
     "metadata": {},
     "outputs": [
      {
       "output_type": "stream",
       "stream": "stdout",
       "text": [
        "Processing data/pi100m.dectxt.000, 100000000 digits, 14159265358979323846...14970581120187751592\n",
        "Processing data/pi100m.dectxt.001, 100000000 digits, 21505880957832796348...83204322022549381399"
       ]
      },
      {
       "output_type": "stream",
       "stream": "stdout",
       "text": [
        "\n",
        "Processing data/pi100m.dectxt.002, 100000000 digits, 05651112987155305622...46957648307240885708"
       ]
      },
      {
       "output_type": "stream",
       "stream": "stdout",
       "text": [
        "\n",
        "Processing data/pi100m.dectxt.003, 100000000 digits, 11455198452037407814...06783528489092823653"
       ]
      },
      {
       "output_type": "stream",
       "stream": "stdout",
       "text": [
        "\n",
        "Processing data/pi100m.dectxt.004, 100000000 digits, 14966402168553092322...70523687343293261427"
       ]
      },
      {
       "output_type": "stream",
       "stream": "stdout",
       "text": [
        "\n",
        "Processing data/pi100m.dectxt.005, 100000000 digits, 47342432766223352946...87101328869499653984"
       ]
      },
      {
       "output_type": "stream",
       "stream": "stdout",
       "text": [
        "\n",
        "Processing data/pi100m.dectxt.006, 100000000 digits, 87093558701000064080...61891872423951424305"
       ]
      },
      {
       "output_type": "stream",
       "stream": "stdout",
       "text": [
        "\n",
        "Processing data/pi100m.dectxt.007, 100000000 digits, 85880766885039792130...09659296170468252898"
       ]
      },
      {
       "output_type": "stream",
       "stream": "stdout",
       "text": [
        "\n",
        "Processing data/pi100m.dectxt.008, 100000000 digits, 18283173292552189833...90805981695172461619"
       ]
      },
      {
       "output_type": "stream",
       "stream": "stdout",
       "text": [
        "\n",
        "Processing data/pi100m.dectxt.009, 100000000 digits, 12265862781547280522...15171395115275045519"
       ]
      },
      {
       "output_type": "stream",
       "stream": "stdout",
       "text": [
        "\n"
       ]
      }
     ],
     "prompt_number": 6
    },
    {
     "cell_type": "code",
     "collapsed": false,
     "input": [
      "# Create 1000-character files for overlaps during tests\n",
      "\n",
      "filelist = ['data/pi100m.dectxt.001', 'data/pi100m.dectxt.002', 'data/pi100m.dectxt.003', \n",
      "            'data/pi100m.dectxt.004', 'data/pi100m.dectxt.005', 'data/pi100m.dectxt.006', \n",
      "            'data/pi100m.dectxt.007', 'data/pi100m.dectxt.008', 'data/pi100m.dectxt.009']\n",
      "\n",
      "for filename in filelist:\n",
      "    current = open(filename, 'r')\n",
      "    string1K = current.read()[:1000]\n",
      "    current.close()\n",
      "    newfile = open(filename+'.1K', 'w+')\n",
      "    newfile.write(string1K)\n",
      "    newfile.close()"
     ],
     "language": "python",
     "metadata": {},
     "outputs": [],
     "prompt_number": 1
    },
    {
     "cell_type": "code",
     "collapsed": false,
     "input": [],
     "language": "python",
     "metadata": {},
     "outputs": []
    }
   ],
   "metadata": {}
  }
 ]
}