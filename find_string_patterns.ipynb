{
 "metadata": {
  "name": "find_string_patterns.ipynb"
 },
 "nbformat": 3,
 "nbformat_minor": 0,
 "worksheets": [
  {
   "cells": [
    {
     "cell_type": "markdown",
     "metadata": {},
     "source": [
      "# find_string_patterns.ipynb\n",
      "\n",
      "You will need to run ``run_me_first`` and ``calculate_tau`` first.\n",
      "\n",
      "This script finds patterns in pi and tau by performing string searches. The search criteria are divided into four groups:\n",
      "\n",
      "Group 1: patterns consisting of a string of single digits with a defined startpoint and variable length\n",
      "\n",
      "* repeated digits\n",
      "* digits consecutively increasing or decreasing by 1\n",
      "* the digits of pi, tau, e or root 2\n",
      "\n",
      "Group 2: patterns consisting of a string of digits with a defined startpoint and variable internal length (e.g. for the primes, 2357 and 235711 would be positive matches but 23571 would not.)\n",
      "\n",
      "* primes or the fibonacci sequences (starting at 0 or 1)\n",
      "\n",
      "Group 3: regex patterns\n",
      "\n",
      "* consecutive even, odd or prime numbers\n",
      "* consecutive digits not containing one particular digit\n",
      "* consecutive digits above or below the digit average of 4.5\n",
      "\n",
      "Group 4: finding specific digits\n",
      "\n",
      "* Jenny's number (8675309)\n",
      "* The Sir Mix-A-Lot number (18007476492568)\n",
      "* All 10 digits in increasing or decreasing order\n",
      "* The Kennedy assassination date (112263)\n",
      "* The number of the beast (666); it counts any string of 3 or more ocnsecutive 6s as one match\n",
      "\n",
      "To avoid missing matches over a file break, the first 1000 digits from the next file are added to the end"
     ]
    },
    {
     "cell_type": "code",
     "collapsed": false,
     "input": [
      "# in case you want to redo only parts of the analyses, you can change any of these to False.\n",
      "\n",
      "do_group_1 = False\n",
      "do_group_2 = False\n",
      "do_group_3 = True\n",
      "do_group_4 = False\n",
      "\n",
      "\n",
      "import re\n",
      "import json\n",
      "import time\n",
      "\n",
      "################################################################################\n",
      "# DEFINE SEARCH TERMS\n",
      "# tests have three elements: abbreviation, full description, and a tuplet\n",
      "# of search terms\n",
      "# note that if a match as long as the search term appears for sequences,\n",
      "# the search term will need to be lengthened.\n",
      "\n",
      "group_1 = [\n",
      "('rep', 'repeating digits', ('00000000000000000000',\n",
      "                              '11111111111111111111',\n",
      "                              '22222222222222222222',\n",
      "                              '33333333333333333333',\n",
      "                              '44444444444444444444',\n",
      "                              '55555555555555555555',\n",
      "                              '66666666666666666666',\n",
      "                              '77777777777777777777',\n",
      "                              '88888888888888888888',\n",
      "                              '99999999999999999999')),\n",
      "('consec', 'consecutive increasing or decreasing digits', ('01234567890123456789',\n",
      "                                                        '12345678901234567890',\n",
      "                                                        '23456789012345678901',\n",
      "                                                        '34567890123456789012',\n",
      "                                                        '45678901234567890123',\n",
      "                                                        '56789012345678901234',\n",
      "                                                        '67890123456789012345',\n",
      "                                                        '78901234567890123456',\n",
      "                                                        '89012345678901234567',\n",
      "                                                        '90123456789012345678',\n",
      "                                                        '01234567890123456789',\n",
      "                                                        '98765432109876543210',\n",
      "                                                        '87654321098765432109',\n",
      "                                                        '76543210987654321098',\n",
      "                                                        '65432109876543210987',\n",
      "                                                        '54321098765432109876',\n",
      "                                                        '43210987654321098765',\n",
      "                                                        '32109876543210987654',\n",
      "                                                        '21098765432109876543',\n",
      "                                                        '10987654321098765432',\n",
      "                                                        '09876543210987654321')),\n",
      "('pi', 'the digits of pi', ['3141592653589793238462643']),\n",
      "('tau', 'the digits of tau', ['6283185307179586476925286']),\n",
      "('e', \"the digits of Euler's number\", ['2718281828459045235360287']),\n",
      "('root2', 'the digits of the square root of two', ['1414213562373095048801688'])]\n",
      "\n",
      "# the last list is the positions new members of the group start at.\n",
      "group_2 = [('primes', 'the sequence of prime numbers', ['235711131719232931374143475359'], \n",
      "            [1,2,3,4,6,8,10,12,14,16,18,20,22]),\n",
      "                             ('fib0', 'fibonacci sequence starting at 0',['01123581321345589144233'], \n",
      "                              [1,2,3,4,5,6,7,9,11,13,15,17,30,23]),\n",
      "                             ('fib1', 'fibonacci sequence starting at 1',['1123581321345589144233'], \n",
      "                              [1,2,3,4,5,6,8,10,12,14,16,19,22])]\n",
      "\n",
      "group_3 = [('primed', 'prime digits', ['[2357]']),\n",
      "             ('even', 'even digits', ['[02468]']), \n",
      "             ('odd', 'odd digits', ['[13579]']),\n",
      "             ('not', 'not containing a particular digit', ('[^0]', '[^1]', '[^2]', '[^3]', '[^4]', '[^5]', \n",
      "                                                           '[^6]', '[^7]', '[^8]', '[^9]')),\n",
      "             ('5 or more', 'digits greater than average value of 4.5', ['[56789]']),\n",
      "             ('4 or less', 'digits less than average value of 4.5', ['[01234]'])]\n",
      "\n",
      "group_4 = ['8675309', '112263', '18007476492568', '[^6]666', '0123456789', '9876543210']\n",
      "\n",
      "\n",
      "\n",
      "group_1_results = {}\n",
      "for item in group_1:\n",
      "    group_1_results[item[0]] = [5, 0]\n",
      "    \n",
      "group_2_results = {}\n",
      "for item in group_2:\n",
      "    group_2_results[item[0]] = [4, 0]\n",
      "    \n",
      "group_3_results = {}\n",
      "for item in group_3:\n",
      "    group_3_results[item[0]] = [5, 0]\n",
      "\n",
      "group_4_results = {}\n",
      "\n",
      "for item in group_4:\n",
      "    group_4_results[item] = [0, 0]"
     ],
     "language": "python",
     "metadata": {},
     "outputs": [],
     "prompt_number": 2
    },
    {
     "cell_type": "code",
     "collapsed": false,
     "input": [
      "starttime = time.time()\n",
      "\n",
      "for constant in ['pi', 'tau']:\n",
      "\n",
      "    for i in range(10):\n",
      "        infilename = 'data/' + constant + '100m.dectxt.00%d' % (i)\n",
      "        with open(infilename, 'r') as fin:\n",
      "            digits = fin.read()\n",
      "            \n",
      "        if i < 9:\n",
      "            next1K = 'data/' + constant + '100m.dectxt.00%d.1K' % (i+1)\n",
      "            with open(next1K, 'r') as fin2:\n",
      "                moredigits = fin2.read()\n",
      "            digits += moredigits\n",
      "            \n",
      "\n",
      "            \n",
      "        ###############################################################    \n",
      "        \n",
      "        if do_group_1:\n",
      "            for test in group_1:\n",
      "                print 'testing ',test[1],\n",
      "                name=test[0]\n",
      "                criteria=test[2]\n",
      "                curr_max = group_1_results[name][0]\n",
      "                curr_pos = group_1_results[name][1]\n",
      "                orig_max = curr_max\n",
      "                for criterion in criteria:\n",
      "                    found = True\n",
      "                    while found == True:\n",
      "                        to_search = criterion[:curr_max]\n",
      "                        print to_search,\n",
      "                        found_pos = digits.find(to_search)\n",
      "                        if found_pos != -1 and found_pos < 100000000:\n",
      "                            found_pos += i * 100000000\n",
      "                            if curr_max == orig_max: #if a search of the same length but at earlier position is found, it becomes the frontrunner\n",
      "                                if found_pos < curr_pos or curr_pos == 0:\n",
      "                                    curr_pos = found_pos\n",
      "                                    print 'new pos', curr_pos\n",
      "                            else:\n",
      "                                curr_pos = found_pos\n",
      "                            curr_max += 1\n",
      "                        else:\n",
      "                            found = False\n",
      "                    group_1_results[name][0] = curr_max\n",
      "                    group_1_results[name][1] = curr_pos\n",
      "                    print ' '\n",
      "                \n",
      "        #################################################################\n",
      "        \n",
      "        \n",
      "        \n",
      "        if do_group_2:\n",
      "            for test in group_2:\n",
      "                print 'testing ',test[1],\n",
      "                name=test[0]\n",
      "                criteria=test[2]\n",
      "                placelist = test[3]\n",
      "                curr_max = group_2_results[name][0]\n",
      "                curr_pos = group_2_results[name][1]\n",
      "                orig_max = curr_max\n",
      "                for criterion in criteria:\n",
      "                    found = True\n",
      "                    while found == True:\n",
      "                        to_search = criterion[:curr_max]\n",
      "                        print to_search,\n",
      "                        found_pos = digits.find(to_search)\n",
      "                        if found_pos != -1 and found_pos < 100000000:\n",
      "                            found_pos += i * 100000000\n",
      "                            if curr_max == orig_max:\n",
      "                                if found_pos < curr_pos or curr_pos == 0:\n",
      "                                    curr_pos = found_pos\n",
      "                                    print 'new pos', curr_pos\n",
      "                            else:\n",
      "                                curr_pos = found_pos\n",
      "                            curr_max += 1\n",
      "                            while curr_max not in placelist:\n",
      "                                curr_max += 1\n",
      "                                if curr_max >25:\n",
      "                                    break\n",
      "                        else:\n",
      "                            found = False\n",
      "                    group_2_results[name][0] = curr_max\n",
      "                    group_2_results[name][1] = curr_pos\n",
      "                    print ' '\n",
      "                \n",
      "        ############################################################\n",
      "        \n",
      "        if do_group_3:\n",
      "            for test in group_3:\n",
      "                print 'testing ',test[1],\n",
      "                name=test[0]\n",
      "                criteria=test[2]\n",
      "                curr_max = group_3_results[name][0]\n",
      "                curr_pos = group_3_results[name][1]\n",
      "                orig_max = curr_max\n",
      "                for criterion in criteria:\n",
      "                    found = True\n",
      "                    while found == True:\n",
      "                        to_search = criterion + '{%s}' % (curr_max)\n",
      "                        print to_search,\n",
      "                        regexobj = re.search(to_search, digits)\n",
      "                        if regexobj:\n",
      "                            found_pos = regexobj.start()\n",
      "                            if found_pos < 100000000:\n",
      "                                found_pos += i * 100000000\n",
      "                                if curr_max == orig_max:\n",
      "                                    if found_pos < curr_pos or curr_pos == 0:\n",
      "                                        curr_pos = found_pos\n",
      "                                        print 'new pos', curr_pos\n",
      "                                else:\n",
      "                                    curr_pos = found_pos\n",
      "                                curr_max += 1\n",
      "                            else:\n",
      "                                found = False\n",
      "                        else:\n",
      "                            found = False\n",
      "                    group_3_results[name][0] = curr_max\n",
      "                    group_3_results[name][1] = curr_pos\n",
      "                    print ' '\n",
      "        \n",
      "        ##############################################################\n",
      "        \n",
      "\n",
      "        if do_group_4:  \n",
      "            for item in group_4:\n",
      "                print 'testing ',item\n",
      "                start = group_4_results[item][0]\n",
      "                count = group_4_results[item][1]\n",
      "                reitobj = re.finditer(item,digits)\n",
      "                count = 0\n",
      "                for refobj in reitobj:\n",
      "                    if count==0 and refobj.start() < 100000000:\n",
      "                        start = refobj.start()\n",
      "                    if refobj.start() < 100000000:\n",
      "                        count += 1\n",
      "                if count > 0:\n",
      "                    start += i * 100000000\n",
      "                    if group_4_results[item][0] == 0:\n",
      "                        group_4_results[item][0] = start\n",
      "                    group_4_results[item][1] += count\n",
      "        \n",
      "        #######################################################\n",
      "        \n",
      "        print '\\n=================================================\\n'\n",
      "        \n",
      "        print group_1_results # note all lengths are +1 due to fencepost counting\n",
      "        print group_2_results\n",
      "        print group_3_results\n",
      "        print group_4_results\n",
      "        print \"Total elapsed time: %0.1f minutes.\" % ((time.time() - starttime)/60)\n",
      "        print '\\n=================================================\\n'\n",
      "    \n",
      "    if do_group_1:    \n",
      "        with open(constant+'_search_results_1', 'w+') as f1:\n",
      "            f1.write(json.dumps(group_1_results))\n",
      "    if do_group_2:\n",
      "        with open(constant+'_search_results_2', 'w+') as f2:\n",
      "            f2.write(json.dumps(group_2_results))\n",
      "    if do_group_3:\n",
      "        with open(constant+'_search_results_3', 'w+') as f3:\n",
      "            f3.write(json.dumps(group_3_results))\n",
      "    if do_group_4:\n",
      "        with open(constant+'_search_results_4', 'w+') as f4:\n",
      "            f4.write(json.dumps(group_4_results))"
     ],
     "language": "python",
     "metadata": {},
     "outputs": [
      {
       "output_type": "stream",
       "stream": "stdout",
       "text": [
        "testing  prime digits [2357]{5} new pos 138\n",
        "[2357]{6} [2357]{7} [2357]{8} [2357]{9} [2357]{10} [2357]{11} [2357]{12} [2357]{13} [2357]{14} [2357]{15} "
       ]
      },
      {
       "output_type": "stream",
       "stream": "stdout",
       "text": [
        "[2357]{16} "
       ]
      },
      {
       "output_type": "stream",
       "stream": "stdout",
       "text": [
        "[2357]{17} "
       ]
      },
      {
       "output_type": "stream",
       "stream": "stdout",
       "text": [
        "[2357]{18} "
       ]
      },
      {
       "output_type": "stream",
       "stream": "stdout",
       "text": [
        "[2357]{19} "
       ]
      },
      {
       "output_type": "stream",
       "stream": "stdout",
       "text": [
        "[2357]{20} "
       ]
      },
      {
       "output_type": "stream",
       "stream": "stdout",
       "text": [
        "[2357]{21} "
       ]
      },
      {
       "output_type": "stream",
       "stream": "stdout",
       "text": [
        "[2357]{22} "
       ]
      },
      {
       "output_type": "stream",
       "stream": "stdout",
       "text": [
        " \n",
        "testing  even digits [02468]{5} new pos 17\n",
        "[02468]{6} [02468]{7} [02468]{8} [02468]{9} [02468]{10} [02468]{11} [02468]{12} [02468]{13} [02468]{14} [02468]{15} [02468]{16} [02468]{17} "
       ]
      },
      {
       "output_type": "stream",
       "stream": "stdout",
       "text": [
        "[02468]{18} [02468]{19} "
       ]
      },
      {
       "output_type": "stream",
       "stream": "stdout",
       "text": [
        "[02468]{20} "
       ]
      },
      {
       "output_type": "stream",
       "stream": "stdout",
       "text": [
        "[02468]{21} "
       ]
      },
      {
       "output_type": "stream",
       "stream": "stdout",
       "text": [
        "[02468]{22} "
       ]
      },
      {
       "output_type": "stream",
       "stream": "stdout",
       "text": [
        "[02468]{23} "
       ]
      },
      {
       "output_type": "stream",
       "stream": "stdout",
       "text": [
        "[02468]{24} "
       ]
      },
      {
       "output_type": "stream",
       "stream": "stdout",
       "text": [
        "[02468]{25} "
       ]
      },
      {
       "output_type": "stream",
       "stream": "stdout",
       "text": [
        "[02468]{26} "
       ]
      },
      {
       "output_type": "stream",
       "stream": "stdout",
       "text": [
        "[02468]{27} "
       ]
      },
      {
       "output_type": "stream",
       "stream": "stdout",
       "text": [
        " \n",
        "testing  odd digits [13579]{5} new pos 41\n",
        "[13579]{6} [13579]{7} [13579]{8} [13579]{9} [13579]{10} [13579]{11} [13579]{12} [13579]{13} [13579]{14} [13579]{15} [13579]{16} [13579]{17} [13579]{18} [13579]{19} [13579]{20} "
       ]
      },
      {
       "output_type": "stream",
       "stream": "stdout",
       "text": [
        "[13579]{21} "
       ]
      },
      {
       "output_type": "stream",
       "stream": "stdout",
       "text": [
        "[13579]{22} "
       ]
      },
      {
       "output_type": "stream",
       "stream": "stdout",
       "text": [
        "[13579]{23} "
       ]
      },
      {
       "output_type": "stream",
       "stream": "stdout",
       "text": [
        "[13579]{24} "
       ]
      },
      {
       "output_type": "stream",
       "stream": "stdout",
       "text": [
        "[13579]{25} "
       ]
      },
      {
       "output_type": "stream",
       "stream": "stdout",
       "text": [
        "[13579]{26} "
       ]
      },
      {
       "output_type": "stream",
       "stream": "stdout",
       "text": [
        "[13579]{27} "
       ]
      },
      {
       "output_type": "stream",
       "stream": "stdout",
       "text": [
        "[13579]{28} "
       ]
      },
      {
       "output_type": "stream",
       "stream": "stdout",
       "text": [
        "[13579]{29} "
       ]
      },
      {
       "output_type": "stream",
       "stream": "stdout",
       "text": [
        "[13579]{30} "
       ]
      },
      {
       "output_type": "stream",
       "stream": "stdout",
       "text": [
        " \n",
        "testing  not containing a particular digit [^0]{5} new pos 0\n",
        "[^0]{6} [^0]{7} [^0]{8} [^0]{9} [^0]{10} [^0]{11} [^0]{12} [^0]{13} [^0]{14} [^0]{15} [^0]{16} [^0]{17} [^0]{18} [^0]{19} [^0]{20} [^0]{21} [^0]{22} [^0]{23} [^0]{24} [^0]{25} [^0]{26} [^0]{27} [^0]{28} [^0]{29} [^0]{30} [^0]{31} [^0]{32} [^0]{33} [^0]{34} [^0]{35} [^0]{36} [^0]{37} [^0]{38} [^0]{39} [^0]{40} [^0]{41} [^0]{42} [^0]{43} [^0]{44} [^0]{45} [^0]{46} [^0]{47} [^0]{48} [^0]{49} [^0]{50} [^0]{51} [^0]{52} [^0]{53} [^0]{54} [^0]{55} [^0]{56} [^0]{57} [^0]{58} [^0]{59} [^0]{60} [^0]{61} [^0]{62} [^0]{63} [^0]{64} [^0]{65} [^0]{66} [^0]{67} [^0]{68} [^0]{69} [^0]{70} [^0]{71} [^0]{72} [^0]{73} [^0]{74} [^0]{75} [^0]{76} [^0]{77} [^0]{78} [^0]{79} [^0]{80} [^0]{81} [^0]{82} [^0]{83} [^0]{84} [^0]{85} [^0]{86} [^0]{87} [^0]{88} [^0]{89} [^0]{90} [^0]{91} [^0]{92} "
       ]
      },
      {
       "output_type": "stream",
       "stream": "stdout",
       "text": [
        "[^0]{93} [^0]{94} [^0]{95} [^0]{96} "
       ]
      },
      {
       "output_type": "stream",
       "stream": "stdout",
       "text": [
        "[^0]{97} [^0]{98} [^0]{99} "
       ]
      },
      {
       "output_type": "stream",
       "stream": "stdout",
       "text": [
        "[^0]{100} [^0]{101} [^0]{102} "
       ]
      },
      {
       "output_type": "stream",
       "stream": "stdout",
       "text": [
        "[^0]{103} [^0]{104} "
       ]
      },
      {
       "output_type": "stream",
       "stream": "stdout",
       "text": [
        "[^0]{105} [^0]{106} [^0]{107} "
       ]
      },
      {
       "output_type": "stream",
       "stream": "stdout",
       "text": [
        "[^0]{108} [^0]{109} [^0]{110} "
       ]
      },
      {
       "output_type": "stream",
       "stream": "stdout",
       "text": [
        "[^0]{111} [^0]{112} [^0]{113} "
       ]
      },
      {
       "output_type": "stream",
       "stream": "stdout",
       "text": [
        "[^0]{114} "
       ]
      },
      {
       "output_type": "stream",
       "stream": "stdout",
       "text": [
        "[^0]{115} "
       ]
      },
      {
       "output_type": "stream",
       "stream": "stdout",
       "text": [
        "[^0]{116} "
       ]
      },
      {
       "output_type": "stream",
       "stream": "stdout",
       "text": [
        "[^0]{117} "
       ]
      },
      {
       "output_type": "stream",
       "stream": "stdout",
       "text": [
        "[^0]{118} "
       ]
      },
      {
       "output_type": "stream",
       "stream": "stdout",
       "text": [
        "[^0]{119} "
       ]
      },
      {
       "output_type": "stream",
       "stream": "stdout",
       "text": [
        "[^0]{120} "
       ]
      },
      {
       "output_type": "stream",
       "stream": "stdout",
       "text": [
        "[^0]{121} "
       ]
      },
      {
       "output_type": "stream",
       "stream": "stdout",
       "text": [
        "[^0]{122} "
       ]
      },
      {
       "output_type": "stream",
       "stream": "stdout",
       "text": [
        "[^0]{123} "
       ]
      },
      {
       "output_type": "stream",
       "stream": "stdout",
       "text": [
        "[^0]{124} "
       ]
      },
      {
       "output_type": "stream",
       "stream": "stdout",
       "text": [
        "[^0]{125} "
       ]
      },
      {
       "output_type": "stream",
       "stream": "stdout",
       "text": [
        "[^0]{126} "
       ]
      },
      {
       "output_type": "stream",
       "stream": "stdout",
       "text": [
        "[^0]{127} "
       ]
      },
      {
       "output_type": "stream",
       "stream": "stdout",
       "text": [
        "[^0]{128} "
       ]
      },
      {
       "output_type": "stream",
       "stream": "stdout",
       "text": [
        "[^0]{129} "
       ]
      },
      {
       "output_type": "stream",
       "stream": "stdout",
       "text": [
        "[^0]{130} "
       ]
      },
      {
       "output_type": "stream",
       "stream": "stdout",
       "text": [
        "[^0]{131} "
       ]
      },
      {
       "output_type": "stream",
       "stream": "stdout",
       "text": [
        "[^0]{132} "
       ]
      },
      {
       "output_type": "stream",
       "stream": "stdout",
       "text": [
        "[^0]{133} "
       ]
      },
      {
       "output_type": "stream",
       "stream": "stdout",
       "text": [
        "[^0]{134} "
       ]
      },
      {
       "output_type": "stream",
       "stream": "stdout",
       "text": [
        "[^0]{135} "
       ]
      },
      {
       "output_type": "stream",
       "stream": "stdout",
       "text": [
        "[^0]{136} "
       ]
      },
      {
       "output_type": "stream",
       "stream": "stdout",
       "text": [
        "[^0]{137} "
       ]
      },
      {
       "output_type": "stream",
       "stream": "stdout",
       "text": [
        "[^0]{138} "
       ]
      },
      {
       "output_type": "stream",
       "stream": "stdout",
       "text": [
        "[^0]{139} "
       ]
      },
      {
       "output_type": "stream",
       "stream": "stdout",
       "text": [
        "[^0]{140} "
       ]
      },
      {
       "output_type": "stream",
       "stream": "stdout",
       "text": [
        "[^0]{141} "
       ]
      },
      {
       "output_type": "stream",
       "stream": "stdout",
       "text": [
        "[^0]{142} "
       ]
      },
      {
       "output_type": "stream",
       "stream": "stdout",
       "text": [
        "[^0]{143} "
       ]
      },
      {
       "output_type": "stream",
       "stream": "stdout",
       "text": [
        "[^0]{144} "
       ]
      },
      {
       "output_type": "stream",
       "stream": "stdout",
       "text": [
        "[^0]{145} "
       ]
      },
      {
       "output_type": "stream",
       "stream": "stdout",
       "text": [
        "[^0]{146} "
       ]
      },
      {
       "output_type": "stream",
       "stream": "stdout",
       "text": [
        "[^0]{147} "
       ]
      },
      {
       "output_type": "stream",
       "stream": "stdout",
       "text": [
        "[^0]{148} "
       ]
      },
      {
       "output_type": "stream",
       "stream": "stdout",
       "text": [
        "[^0]{149} "
       ]
      },
      {
       "output_type": "stream",
       "stream": "stdout",
       "text": [
        "[^0]{150} "
       ]
      },
      {
       "output_type": "stream",
       "stream": "stdout",
       "text": [
        "[^0]{151} "
       ]
      },
      {
       "output_type": "stream",
       "stream": "stdout",
       "text": [
        "[^0]{152} "
       ]
      },
      {
       "output_type": "stream",
       "stream": "stdout",
       "text": [
        "[^0]{153} "
       ]
      },
      {
       "output_type": "stream",
       "stream": "stdout",
       "text": [
        "[^0]{154} "
       ]
      },
      {
       "output_type": "stream",
       "stream": "stdout",
       "text": [
        "[^0]{155} "
       ]
      },
      {
       "output_type": "stream",
       "stream": "stdout",
       "text": [
        "[^0]{156} "
       ]
      },
      {
       "output_type": "stream",
       "stream": "stdout",
       "text": [
        "[^0]{157} "
       ]
      },
      {
       "output_type": "stream",
       "stream": "stdout",
       "text": [
        "[^0]{158} "
       ]
      },
      {
       "output_type": "stream",
       "stream": "stdout",
       "text": [
        "[^0]{159} "
       ]
      },
      {
       "output_type": "stream",
       "stream": "stdout",
       "text": [
        "[^0]{160} "
       ]
      },
      {
       "output_type": "stream",
       "stream": "stdout",
       "text": [
        "[^0]{161} "
       ]
      },
      {
       "output_type": "stream",
       "stream": "stdout",
       "text": [
        "[^0]{162} "
       ]
      },
      {
       "output_type": "stream",
       "stream": "stdout",
       "text": [
        "[^0]{163} "
       ]
      },
      {
       "output_type": "stream",
       "stream": "stdout",
       "text": [
        "[^0]{164} "
       ]
      },
      {
       "output_type": "stream",
       "stream": "stdout",
       "text": [
        " \n",
        "[^1]{164} "
       ]
      },
      {
       "output_type": "stream",
       "stream": "stdout",
       "text": [
        "[^1]{165} "
       ]
      },
      {
       "output_type": "stream",
       "stream": "stdout",
       "text": [
        "[^1]{166} "
       ]
      },
      {
       "output_type": "stream",
       "stream": "stdout",
       "text": [
        "[^1]{167} "
       ]
      },
      {
       "output_type": "stream",
       "stream": "stdout",
       "text": [
        "[^1]{168} "
       ]
      },
      {
       "output_type": "stream",
       "stream": "stdout",
       "text": [
        "[^1]{169} "
       ]
      },
      {
       "output_type": "stream",
       "stream": "stdout",
       "text": [
        "[^1]{170} "
       ]
      },
      {
       "output_type": "stream",
       "stream": "stdout",
       "text": [
        "[^1]{171} "
       ]
      },
      {
       "output_type": "stream",
       "stream": "stdout",
       "text": [
        "[^1]{172} "
       ]
      },
      {
       "output_type": "stream",
       "stream": "stdout",
       "text": [
        "[^1]{173} "
       ]
      },
      {
       "output_type": "stream",
       "stream": "stdout",
       "text": [
        "[^1]{174} "
       ]
      },
      {
       "output_type": "stream",
       "stream": "stdout",
       "text": [
        "[^1]{175} "
       ]
      },
      {
       "output_type": "stream",
       "stream": "stdout",
       "text": [
        "[^1]{176} "
       ]
      },
      {
       "output_type": "stream",
       "stream": "stdout",
       "text": [
        " \n",
        "[^2]{176} "
       ]
      },
      {
       "output_type": "stream",
       "stream": "stdout",
       "text": [
        " \n",
        "[^3]{176} "
       ]
      },
      {
       "output_type": "stream",
       "stream": "stdout",
       "text": [
        " \n",
        "[^4]{176} "
       ]
      },
      {
       "output_type": "stream",
       "stream": "stdout",
       "text": [
        " \n",
        "[^5]{176} "
       ]
      },
      {
       "output_type": "stream",
       "stream": "stdout",
       "text": [
        " \n",
        "[^6]{176} "
       ]
      },
      {
       "output_type": "stream",
       "stream": "stdout",
       "text": [
        " \n",
        "[^7]{176} "
       ]
      },
      {
       "output_type": "stream",
       "stream": "stdout",
       "text": [
        " \n",
        "[^8]{176} "
       ]
      },
      {
       "output_type": "stream",
       "stream": "stdout",
       "text": [
        "[^8]{177} "
       ]
      },
      {
       "output_type": "stream",
       "stream": "stdout",
       "text": [
        "[^8]{178} "
       ]
      },
      {
       "output_type": "stream",
       "stream": "stdout",
       "text": [
        "[^8]{179} "
       ]
      },
      {
       "output_type": "stream",
       "stream": "stdout",
       "text": [
        "[^8]{180} "
       ]
      },
      {
       "output_type": "stream",
       "stream": "stdout",
       "text": [
        "[^8]{181} "
       ]
      },
      {
       "output_type": "stream",
       "stream": "stdout",
       "text": [
        "[^8]{182} "
       ]
      },
      {
       "output_type": "stream",
       "stream": "stdout",
       "text": [
        "[^8]{183} "
       ]
      },
      {
       "output_type": "stream",
       "stream": "stdout",
       "text": [
        "[^8]{184} "
       ]
      },
      {
       "output_type": "stream",
       "stream": "stdout",
       "text": [
        "[^8]{185} "
       ]
      },
      {
       "output_type": "stream",
       "stream": "stdout",
       "text": [
        "[^8]{186} "
       ]
      },
      {
       "output_type": "stream",
       "stream": "stdout",
       "text": [
        "[^8]{187} "
       ]
      },
      {
       "output_type": "stream",
       "stream": "stdout",
       "text": [
        "[^8]{188} "
       ]
      },
      {
       "output_type": "stream",
       "stream": "stdout",
       "text": [
        "[^8]{189} "
       ]
      },
      {
       "output_type": "stream",
       "stream": "stdout",
       "text": [
        "[^8]{190} "
       ]
      },
      {
       "output_type": "stream",
       "stream": "stdout",
       "text": [
        "[^8]{191} "
       ]
      },
      {
       "output_type": "stream",
       "stream": "stdout",
       "text": [
        "[^8]{192} "
       ]
      },
      {
       "output_type": "stream",
       "stream": "stdout",
       "text": [
        "[^8]{193} "
       ]
      },
      {
       "output_type": "stream",
       "stream": "stdout",
       "text": [
        "[^8]{194} "
       ]
      },
      {
       "output_type": "stream",
       "stream": "stdout",
       "text": [
        "[^8]{195} "
       ]
      },
      {
       "output_type": "stream",
       "stream": "stdout",
       "text": [
        "[^8]{196} "
       ]
      },
      {
       "output_type": "stream",
       "stream": "stdout",
       "text": [
        " \n",
        "[^9]{196} "
       ]
      },
      {
       "output_type": "stream",
       "stream": "stdout",
       "text": [
        " \n",
        "testing  digits greater than average value of 4.5 [56789]{5} new pos 9\n",
        "[56789]{6} [56789]{7} [56789]{8} [56789]{9} [56789]{10} [56789]{11} [56789]{12} [56789]{13} [56789]{14} [56789]{15} [56789]{16} [56789]{17} [56789]{18} "
       ]
      },
      {
       "output_type": "stream",
       "stream": "stdout",
       "text": [
        "[56789]{19} "
       ]
      },
      {
       "output_type": "stream",
       "stream": "stdout",
       "text": [
        "[56789]{20} "
       ]
      },
      {
       "output_type": "stream",
       "stream": "stdout",
       "text": [
        "[56789]{21} "
       ]
      },
      {
       "output_type": "stream",
       "stream": "stdout",
       "text": [
        "[56789]{22} "
       ]
      },
      {
       "output_type": "stream",
       "stream": "stdout",
       "text": [
        "[56789]{23} "
       ]
      },
      {
       "output_type": "stream",
       "stream": "stdout",
       "text": [
        "[56789]{24} "
       ]
      },
      {
       "output_type": "stream",
       "stream": "stdout",
       "text": [
        "[56789]{25} "
       ]
      },
      {
       "output_type": "stream",
       "stream": "stdout",
       "text": [
        "[56789]{26} "
       ]
      },
      {
       "output_type": "stream",
       "stream": "stdout",
       "text": [
        "[56789]{27} "
       ]
      },
      {
       "output_type": "stream",
       "stream": "stdout",
       "text": [
        " \n",
        "testing  digits less than average value of 4.5 [01234]{5} new pos 90\n",
        "[01234]{6} [01234]{7} [01234]{8} [01234]{9} [01234]{10} [01234]{11} [01234]{12} [01234]{13} [01234]{14} [01234]{15} [01234]{16} [01234]{17} [01234]{18} [01234]{19} [01234]{20} [01234]{21} "
       ]
      },
      {
       "output_type": "stream",
       "stream": "stdout",
       "text": [
        "[01234]{22} "
       ]
      },
      {
       "output_type": "stream",
       "stream": "stdout",
       "text": [
        "[01234]{23} "
       ]
      },
      {
       "output_type": "stream",
       "stream": "stdout",
       "text": [
        "[01234]{24} "
       ]
      },
      {
       "output_type": "stream",
       "stream": "stdout",
       "text": [
        "[01234]{25} "
       ]
      },
      {
       "output_type": "stream",
       "stream": "stdout",
       "text": [
        "[01234]{26} "
       ]
      },
      {
       "output_type": "stream",
       "stream": "stdout",
       "text": [
        "[01234]{27} "
       ]
      },
      {
       "output_type": "stream",
       "stream": "stdout",
       "text": [
        " \n",
        "\n",
        "=================================================\n",
        "\n",
        "{'tau': [5, 0], 'e': [5, 0], 'rep': [5, 0], 'consec': [5, 0], 'pi': [5, 0], 'root2': [5, 0]}\n",
        "{'primes': [4, 0], 'fib1': [4, 0], 'fib0': [4, 0]}\n",
        "{'even': [27, 36454143], '4 or less': [27, 39904079], '5 or more': [27, 2946688], 'primed': [22, 93321339], 'not': [196, 18522937], 'odd': [30, 92438125]}\n",
        "{'112263': [0, 0], '8675309': [0, 0], '0123456789': [0, 0], '[^6]666': [0, 0], '9876543210': [0, 0], '18007476492568': [0, 0]}\n",
        "Total elapsed time: 3.3 minutes.\n",
        "\n",
        "=================================================\n",
        "\n",
        "testing "
       ]
      },
      {
       "output_type": "stream",
       "stream": "stdout",
       "text": [
        " prime digits [2357]{22} "
       ]
      },
      {
       "output_type": "stream",
       "stream": "stdout",
       "text": [
        " \n",
        "testing  even digits [02468]{27} "
       ]
      },
      {
       "output_type": "stream",
       "stream": "stdout",
       "text": [
        " \n",
        "testing  odd digits [13579]{30} "
       ]
      },
      {
       "output_type": "stream",
       "stream": "stdout",
       "text": [
        " \n",
        "testing  not containing a particular digit [^0]{196} "
       ]
      },
      {
       "output_type": "stream",
       "stream": "stdout",
       "text": [
        " \n",
        "[^1]{196} "
       ]
      },
      {
       "output_type": "stream",
       "stream": "stdout",
       "text": [
        " \n",
        "[^2]{196} "
       ]
      },
      {
       "output_type": "stream",
       "stream": "stdout",
       "text": [
        " \n",
        "[^3]{196} "
       ]
      },
      {
       "output_type": "stream",
       "stream": "stdout",
       "text": [
        " \n",
        "[^4]{196} "
       ]
      },
      {
       "output_type": "stream",
       "stream": "stdout",
       "text": [
        " \n",
        "[^5]{196} "
       ]
      },
      {
       "output_type": "stream",
       "stream": "stdout",
       "text": [
        " \n",
        "[^6]{196} "
       ]
      },
      {
       "output_type": "stream",
       "stream": "stdout",
       "text": [
        " \n",
        "[^7]{196} "
       ]
      },
      {
       "output_type": "stream",
       "stream": "stdout",
       "text": [
        " \n",
        "[^8]{196} "
       ]
      },
      {
       "output_type": "stream",
       "stream": "stdout",
       "text": [
        " \n",
        "[^9]{196} "
       ]
      },
      {
       "output_type": "stream",
       "stream": "stdout",
       "text": [
        " \n",
        "testing  digits greater than average value of 4.5 [56789]{27} "
       ]
      },
      {
       "output_type": "stream",
       "stream": "stdout",
       "text": [
        " \n",
        "testing  digits less than average value of 4.5 [01234]{27} "
       ]
      },
      {
       "output_type": "stream",
       "stream": "stdout",
       "text": [
        " \n",
        "\n",
        "=================================================\n",
        "\n",
        "{'tau': [5, 0], 'e': [5, 0], 'rep': [5, 0], 'consec': [5, 0], 'pi': [5, 0], 'root2': [5, 0]}\n",
        "{'primes': [4, 0], 'fib1': [4, 0], 'fib0': [4, 0]}\n",
        "{'even': [27, 36454143], '4 or less': [27, 39904079], '5 or more': [27, 2946688], 'primed': [22, 93321339], 'not': [196, 18522937], 'odd': [30, 92438125]}\n",
        "{'112263': [0, 0], '8675309': [0, 0], '0123456789': [0, 0], '[^6]666': [0, 0], '9876543210': [0, 0], '18007476492568': [0, 0]}\n",
        "Total elapsed time: 4.4 minutes.\n",
        "\n",
        "=================================================\n",
        "\n",
        "testing "
       ]
      },
      {
       "output_type": "stream",
       "stream": "stdout",
       "text": [
        " prime digits [2357]{22} "
       ]
      },
      {
       "output_type": "stream",
       "stream": "stdout",
       "text": [
        " \n",
        "testing  even digits [02468]{27} "
       ]
      },
      {
       "output_type": "stream",
       "stream": "stdout",
       "text": [
        "[02468]{28} "
       ]
      },
      {
       "output_type": "stream",
       "stream": "stdout",
       "text": [
        " \n",
        "testing  odd digits [13579]{30} "
       ]
      },
      {
       "output_type": "stream",
       "stream": "stdout",
       "text": [
        " \n",
        "testing  not containing a particular digit [^0]{196} "
       ]
      },
      {
       "output_type": "stream",
       "stream": "stdout",
       "text": [
        " \n",
        "[^1]{196} "
       ]
      },
      {
       "output_type": "stream",
       "stream": "stdout",
       "text": [
        " \n",
        "[^2]{196} "
       ]
      },
      {
       "output_type": "stream",
       "stream": "stdout",
       "text": [
        " \n",
        "[^3]{196} "
       ]
      },
      {
       "output_type": "stream",
       "stream": "stdout",
       "text": [
        " \n",
        "[^4]{196} "
       ]
      },
      {
       "output_type": "stream",
       "stream": "stdout",
       "text": [
        " \n",
        "[^5]{196} "
       ]
      },
      {
       "output_type": "stream",
       "stream": "stdout",
       "text": [
        " \n",
        "[^6]{196} "
       ]
      },
      {
       "output_type": "stream",
       "stream": "stdout",
       "text": [
        " \n",
        "[^7]{196} "
       ]
      },
      {
       "output_type": "stream",
       "stream": "stdout",
       "text": [
        " \n",
        "[^8]{196} "
       ]
      },
      {
       "output_type": "stream",
       "stream": "stdout",
       "text": [
        " \n",
        "[^9]{196} "
       ]
      },
      {
       "output_type": "stream",
       "stream": "stdout",
       "text": [
        " \n",
        "testing  digits greater than average value of 4.5 [56789]{27} "
       ]
      },
      {
       "output_type": "stream",
       "stream": "stdout",
       "text": [
        " \n",
        "testing  digits less than average value of 4.5 [01234]{27} "
       ]
      },
      {
       "output_type": "stream",
       "stream": "stdout",
       "text": [
        "[01234]{28} "
       ]
      },
      {
       "output_type": "stream",
       "stream": "stdout",
       "text": [
        " \n",
        "\n",
        "=================================================\n",
        "\n",
        "{'tau': [5, 0], 'e': [5, 0], 'rep': [5, 0], 'consec': [5, 0], 'pi': [5, 0], 'root2': [5, 0]}\n",
        "{'primes': [4, 0], 'fib1': [4, 0], 'fib0': [4, 0]}\n",
        "{'even': [28, 36454143], '4 or less': [28, 39904079], '5 or more': [27, 2946688], 'primed': [22, 93321339], 'not': [196, 18522937], 'odd': [30, 92438125]}\n",
        "{'112263': [0, 0], '8675309': [0, 0], '0123456789': [0, 0], '[^6]666': [0, 0], '9876543210': [0, 0], '18007476492568': [0, 0]}\n",
        "Total elapsed time: 5.6 minutes.\n",
        "\n",
        "=================================================\n",
        "\n",
        "testing "
       ]
      },
      {
       "output_type": "stream",
       "stream": "stdout",
       "text": [
        " prime digits [2357]{22} "
       ]
      },
      {
       "output_type": "stream",
       "stream": "stdout",
       "text": [
        " \n",
        "testing  even digits [02468]{28} "
       ]
      },
      {
       "output_type": "stream",
       "stream": "stdout",
       "text": [
        "[02468]{29} "
       ]
      },
      {
       "output_type": "stream",
       "stream": "stdout",
       "text": [
        " \n",
        "testing  odd digits [13579]{30} "
       ]
      },
      {
       "output_type": "stream",
       "stream": "stdout",
       "text": [
        " \n",
        "testing  not containing a particular digit [^0]{196} "
       ]
      },
      {
       "output_type": "stream",
       "stream": "stdout",
       "text": [
        " \n",
        "[^1]{196} "
       ]
      },
      {
       "output_type": "stream",
       "stream": "stdout",
       "text": [
        " \n",
        "[^2]{196} "
       ]
      },
      {
       "output_type": "stream",
       "stream": "stdout",
       "text": [
        " \n",
        "[^3]{196} "
       ]
      },
      {
       "output_type": "stream",
       "stream": "stdout",
       "text": [
        " \n",
        "[^4]{196} "
       ]
      },
      {
       "output_type": "stream",
       "stream": "stdout",
       "text": [
        " \n",
        "[^5]{196} "
       ]
      },
      {
       "output_type": "stream",
       "stream": "stdout",
       "text": [
        " \n",
        "[^6]{196} "
       ]
      },
      {
       "output_type": "stream",
       "stream": "stdout",
       "text": [
        " \n",
        "[^7]{196} "
       ]
      },
      {
       "output_type": "stream",
       "stream": "stdout",
       "text": [
        " \n",
        "[^8]{196} "
       ]
      },
      {
       "output_type": "stream",
       "stream": "stdout",
       "text": [
        " \n",
        "[^9]{196} "
       ]
      },
      {
       "output_type": "stream",
       "stream": "stdout",
       "text": [
        " \n",
        "testing  digits greater than average value of 4.5 [56789]{27} "
       ]
      },
      {
       "output_type": "stream",
       "stream": "stdout",
       "text": [
        " \n",
        "testing  digits less than average value of 4.5 [01234]{28} "
       ]
      },
      {
       "output_type": "stream",
       "stream": "stdout",
       "text": [
        " \n",
        "\n",
        "=================================================\n",
        "\n",
        "{'tau': [5, 0], 'e': [5, 0], 'rep': [5, 0], 'consec': [5, 0], 'pi': [5, 0], 'root2': [5, 0]}\n",
        "{'primes': [4, 0], 'fib1': [4, 0], 'fib0': [4, 0]}\n",
        "{'even': [29, 36454143], '4 or less': [28, 39904079], '5 or more': [27, 2946688], 'primed': [22, 93321339], 'not': [196, 18522937], 'odd': [30, 92438125]}\n",
        "{'112263': [0, 0], '8675309': [0, 0], '0123456789': [0, 0], '[^6]666': [0, 0], '9876543210': [0, 0], '18007476492568': [0, 0]}\n",
        "Total elapsed time: 6.7 minutes.\n",
        "\n",
        "=================================================\n",
        "\n",
        "testing "
       ]
      },
      {
       "output_type": "stream",
       "stream": "stdout",
       "text": [
        " prime digits [2357]{22} "
       ]
      },
      {
       "output_type": "stream",
       "stream": "stdout",
       "text": [
        " \n",
        "testing  even digits [02468]{29} "
       ]
      },
      {
       "output_type": "stream",
       "stream": "stdout",
       "text": [
        " \n",
        "testing  odd digits [13579]{30} "
       ]
      },
      {
       "output_type": "stream",
       "stream": "stdout",
       "text": [
        " \n",
        "testing  not containing a particular digit [^0]{196} "
       ]
      },
      {
       "output_type": "stream",
       "stream": "stdout",
       "text": [
        " \n",
        "[^1]{196} "
       ]
      },
      {
       "output_type": "stream",
       "stream": "stdout",
       "text": [
        " \n",
        "[^2]{196} "
       ]
      },
      {
       "output_type": "stream",
       "stream": "stdout",
       "text": [
        " \n",
        "[^3]{196} "
       ]
      },
      {
       "output_type": "stream",
       "stream": "stdout",
       "text": [
        " \n",
        "[^4]{196} "
       ]
      },
      {
       "output_type": "stream",
       "stream": "stdout",
       "text": [
        " \n",
        "[^5]{196} "
       ]
      },
      {
       "output_type": "stream",
       "stream": "stdout",
       "text": [
        " \n",
        "[^6]{196} "
       ]
      },
      {
       "output_type": "stream",
       "stream": "stdout",
       "text": [
        " \n",
        "[^7]{196} "
       ]
      },
      {
       "output_type": "stream",
       "stream": "stdout",
       "text": [
        " \n",
        "[^8]{196} "
       ]
      },
      {
       "output_type": "stream",
       "stream": "stdout",
       "text": [
        " \n",
        "[^9]{196} "
       ]
      },
      {
       "output_type": "stream",
       "stream": "stdout",
       "text": [
        " \n",
        "testing  digits greater than average value of 4.5 [56789]{27} "
       ]
      },
      {
       "output_type": "stream",
       "stream": "stdout",
       "text": [
        "[56789]{28} "
       ]
      },
      {
       "output_type": "stream",
       "stream": "stdout",
       "text": [
        " \n",
        "testing  digits less than average value of 4.5 [01234]{28} "
       ]
      },
      {
       "output_type": "stream",
       "stream": "stdout",
       "text": [
        " \n",
        "\n",
        "=================================================\n",
        "\n",
        "{'tau': [5, 0], 'e': [5, 0], 'rep': [5, 0], 'consec': [5, 0], 'pi': [5, 0], 'root2': [5, 0]}\n",
        "{'primes': [4, 0], 'fib1': [4, 0], 'fib0': [4, 0]}\n",
        "{'even': [29, 36454143], '4 or less': [28, 39904079], '5 or more': [28, 2946688], 'primed': [22, 93321339], 'not': [196, 18522937], 'odd': [30, 92438125]}\n",
        "{'112263': [0, 0], '8675309': [0, 0], '0123456789': [0, 0], '[^6]666': [0, 0], '9876543210': [0, 0], '18007476492568': [0, 0]}\n",
        "Total elapsed time: 7.8 minutes.\n",
        "\n",
        "=================================================\n",
        "\n",
        "testing "
       ]
      },
      {
       "output_type": "stream",
       "stream": "stdout",
       "text": [
        " prime digits [2357]{22} "
       ]
      },
      {
       "output_type": "stream",
       "stream": "stdout",
       "text": [
        " \n",
        "testing  even digits [02468]{29} "
       ]
      },
      {
       "output_type": "stream",
       "stream": "stdout",
       "text": [
        " \n",
        "testing  odd digits [13579]{30} "
       ]
      },
      {
       "output_type": "stream",
       "stream": "stdout",
       "text": [
        " \n",
        "testing  not containing a particular digit [^0]{196} "
       ]
      },
      {
       "output_type": "stream",
       "stream": "stdout",
       "text": [
        " \n",
        "[^1]{196} "
       ]
      },
      {
       "output_type": "stream",
       "stream": "stdout",
       "text": [
        " \n",
        "[^2]{196} "
       ]
      },
      {
       "output_type": "stream",
       "stream": "stdout",
       "text": [
        " \n",
        "[^3]{196} "
       ]
      },
      {
       "output_type": "stream",
       "stream": "stdout",
       "text": [
        " \n",
        "[^4]{196} "
       ]
      },
      {
       "output_type": "stream",
       "stream": "stdout",
       "text": [
        " \n",
        "[^5]{196} "
       ]
      },
      {
       "output_type": "stream",
       "stream": "stdout",
       "text": [
        " \n",
        "[^6]{196} "
       ]
      },
      {
       "output_type": "stream",
       "stream": "stdout",
       "text": [
        " \n",
        "[^7]{196} "
       ]
      },
      {
       "output_type": "stream",
       "stream": "stdout",
       "text": [
        " \n",
        "[^8]{196} "
       ]
      },
      {
       "output_type": "stream",
       "stream": "stdout",
       "text": [
        " \n",
        "[^9]{196} "
       ]
      },
      {
       "output_type": "stream",
       "stream": "stdout",
       "text": [
        " \n",
        "testing  digits greater than average value of 4.5 [56789]{28} "
       ]
      },
      {
       "output_type": "stream",
       "stream": "stdout",
       "text": [
        " \n",
        "testing  digits less than average value of 4.5 [01234]{28} "
       ]
      },
      {
       "output_type": "stream",
       "stream": "stdout",
       "text": [
        " \n",
        "\n",
        "=================================================\n",
        "\n",
        "{'tau': [5, 0], 'e': [5, 0], 'rep': [5, 0], 'consec': [5, 0], 'pi': [5, 0], 'root2': [5, 0]}\n",
        "{'primes': [4, 0], 'fib1': [4, 0], 'fib0': [4, 0]}\n",
        "{'even': [29, 36454143], '4 or less': [28, 39904079], '5 or more': [28, 2946688], 'primed': [22, 93321339], 'not': [196, 18522937], 'odd': [30, 92438125]}\n",
        "{'112263': [0, 0], '8675309': [0, 0], '0123456789': [0, 0], '[^6]666': [0, 0], '9876543210': [0, 0], '18007476492568': [0, 0]}\n",
        "Total elapsed time: 8.9 minutes.\n",
        "\n",
        "=================================================\n",
        "\n",
        "testing "
       ]
      },
      {
       "output_type": "stream",
       "stream": "stdout",
       "text": [
        " prime digits [2357]{22} "
       ]
      },
      {
       "output_type": "stream",
       "stream": "stdout",
       "text": [
        " \n",
        "testing  even digits [02468]{29} "
       ]
      },
      {
       "output_type": "stream",
       "stream": "stdout",
       "text": [
        " \n",
        "testing  odd digits [13579]{30} "
       ]
      },
      {
       "output_type": "stream",
       "stream": "stdout",
       "text": [
        " \n",
        "testing  not containing a particular digit [^0]{196} "
       ]
      },
      {
       "output_type": "stream",
       "stream": "stdout",
       "text": [
        " \n",
        "[^1]{196} "
       ]
      },
      {
       "output_type": "stream",
       "stream": "stdout",
       "text": [
        " \n",
        "[^2]{196} "
       ]
      },
      {
       "output_type": "stream",
       "stream": "stdout",
       "text": [
        " \n",
        "[^3]{196} "
       ]
      },
      {
       "output_type": "stream",
       "stream": "stdout",
       "text": [
        " \n",
        "[^4]{196} "
       ]
      },
      {
       "output_type": "stream",
       "stream": "stdout",
       "text": [
        " \n",
        "[^5]{196} "
       ]
      },
      {
       "output_type": "stream",
       "stream": "stdout",
       "text": [
        " \n",
        "[^6]{196} "
       ]
      },
      {
       "output_type": "stream",
       "stream": "stdout",
       "text": [
        " \n",
        "[^7]{196} "
       ]
      },
      {
       "output_type": "stream",
       "stream": "stdout",
       "text": [
        " \n",
        "[^8]{196} "
       ]
      },
      {
       "output_type": "stream",
       "stream": "stdout",
       "text": [
        " \n",
        "[^9]{196} "
       ]
      },
      {
       "output_type": "stream",
       "stream": "stdout",
       "text": [
        " \n",
        "testing  digits greater than average value of 4.5 [56789]{28} "
       ]
      },
      {
       "output_type": "stream",
       "stream": "stdout",
       "text": [
        " \n",
        "testing  digits less than average value of 4.5 [01234]{28} "
       ]
      },
      {
       "output_type": "stream",
       "stream": "stdout",
       "text": [
        " \n",
        "\n",
        "=================================================\n",
        "\n",
        "{'tau': [5, 0], 'e': [5, 0], 'rep': [5, 0], 'consec': [5, 0], 'pi': [5, 0], 'root2': [5, 0]}\n",
        "{'primes': [4, 0], 'fib1': [4, 0], 'fib0': [4, 0]}\n",
        "{'even': [29, 36454143], '4 or less': [28, 39904079], '5 or more': [28, 2946688], 'primed': [22, 93321339], 'not': [196, 18522937], 'odd': [30, 92438125]}\n",
        "{'112263': [0, 0], '8675309': [0, 0], '0123456789': [0, 0], '[^6]666': [0, 0], '9876543210': [0, 0], '18007476492568': [0, 0]}\n",
        "Total elapsed time: 10.0 minutes.\n",
        "\n",
        "=================================================\n",
        "\n",
        "testing "
       ]
      },
      {
       "output_type": "stream",
       "stream": "stdout",
       "text": [
        " prime digits [2357]{22} "
       ]
      },
      {
       "output_type": "stream",
       "stream": "stdout",
       "text": [
        " \n",
        "testing  even digits [02468]{29} "
       ]
      },
      {
       "output_type": "stream",
       "stream": "stdout",
       "text": [
        " \n",
        "testing  odd digits [13579]{30} "
       ]
      },
      {
       "output_type": "stream",
       "stream": "stdout",
       "text": [
        " \n",
        "testing  not containing a particular digit [^0]{196} "
       ]
      },
      {
       "output_type": "stream",
       "stream": "stdout",
       "text": [
        " \n",
        "[^1]{196} "
       ]
      },
      {
       "output_type": "stream",
       "stream": "stdout",
       "text": [
        " \n",
        "[^2]{196} "
       ]
      },
      {
       "output_type": "stream",
       "stream": "stdout",
       "text": [
        " \n",
        "[^3]{196} "
       ]
      },
      {
       "output_type": "stream",
       "stream": "stdout",
       "text": [
        " \n",
        "[^4]{196} "
       ]
      },
      {
       "output_type": "stream",
       "stream": "stdout",
       "text": [
        " \n",
        "[^5]{196} "
       ]
      },
      {
       "output_type": "stream",
       "stream": "stdout",
       "text": [
        " \n",
        "[^6]{196} "
       ]
      },
      {
       "output_type": "stream",
       "stream": "stdout",
       "text": [
        " \n",
        "[^7]{196} "
       ]
      },
      {
       "output_type": "stream",
       "stream": "stdout",
       "text": [
        " \n",
        "[^8]{196} "
       ]
      },
      {
       "output_type": "stream",
       "stream": "stdout",
       "text": [
        " \n",
        "[^9]{196} "
       ]
      },
      {
       "output_type": "stream",
       "stream": "stdout",
       "text": [
        " \n",
        "testing  digits greater than average value of 4.5 [56789]{28} "
       ]
      },
      {
       "output_type": "stream",
       "stream": "stdout",
       "text": [
        " \n",
        "testing  digits less than average value of 4.5 [01234]{28} "
       ]
      },
      {
       "output_type": "stream",
       "stream": "stdout",
       "text": [
        " \n",
        "\n",
        "=================================================\n",
        "\n",
        "{'tau': [5, 0], 'e': [5, 0], 'rep': [5, 0], 'consec': [5, 0], 'pi': [5, 0], 'root2': [5, 0]}\n",
        "{'primes': [4, 0], 'fib1': [4, 0], 'fib0': [4, 0]}\n",
        "{'even': [29, 36454143], '4 or less': [28, 39904079], '5 or more': [28, 2946688], 'primed': [22, 93321339], 'not': [196, 18522937], 'odd': [30, 92438125]}\n",
        "{'112263': [0, 0], '8675309': [0, 0], '0123456789': [0, 0], '[^6]666': [0, 0], '9876543210': [0, 0], '18007476492568': [0, 0]}\n",
        "Total elapsed time: 11.0 minutes.\n",
        "\n",
        "=================================================\n",
        "\n",
        "testing "
       ]
      },
      {
       "output_type": "stream",
       "stream": "stdout",
       "text": [
        " prime digits [2357]{22} "
       ]
      },
      {
       "output_type": "stream",
       "stream": "stdout",
       "text": [
        "[2357]{23} "
       ]
      },
      {
       "output_type": "stream",
       "stream": "stdout",
       "text": [
        "[2357]{24} "
       ]
      },
      {
       "output_type": "stream",
       "stream": "stdout",
       "text": [
        "[2357]{25} "
       ]
      },
      {
       "output_type": "stream",
       "stream": "stdout",
       "text": [
        "[2357]{26} "
       ]
      },
      {
       "output_type": "stream",
       "stream": "stdout",
       "text": [
        " \n",
        "testing  even digits [02468]{29} "
       ]
      },
      {
       "output_type": "stream",
       "stream": "stdout",
       "text": [
        " \n",
        "testing  odd digits [13579]{30} "
       ]
      },
      {
       "output_type": "stream",
       "stream": "stdout",
       "text": [
        " \n",
        "testing  not containing a particular digit [^0]{196} "
       ]
      },
      {
       "output_type": "stream",
       "stream": "stdout",
       "text": [
        " \n",
        "[^1]{196} "
       ]
      },
      {
       "output_type": "stream",
       "stream": "stdout",
       "text": [
        " \n",
        "[^2]{196} "
       ]
      },
      {
       "output_type": "stream",
       "stream": "stdout",
       "text": [
        " \n",
        "[^3]{196} "
       ]
      },
      {
       "output_type": "stream",
       "stream": "stdout",
       "text": [
        " \n",
        "[^4]{196} "
       ]
      },
      {
       "output_type": "stream",
       "stream": "stdout",
       "text": [
        " \n",
        "[^5]{196} "
       ]
      },
      {
       "output_type": "stream",
       "stream": "stdout",
       "text": [
        " \n",
        "[^6]{196} "
       ]
      },
      {
       "output_type": "stream",
       "stream": "stdout",
       "text": [
        " \n",
        "[^7]{196} "
       ]
      },
      {
       "output_type": "stream",
       "stream": "stdout",
       "text": [
        " \n",
        "[^8]{196} "
       ]
      },
      {
       "output_type": "stream",
       "stream": "stdout",
       "text": [
        " \n",
        "[^9]{196} "
       ]
      },
      {
       "output_type": "stream",
       "stream": "stdout",
       "text": [
        " \n",
        "testing  digits greater than average value of 4.5 [56789]{28} "
       ]
      },
      {
       "output_type": "stream",
       "stream": "stdout",
       "text": [
        " \n",
        "testing  digits less than average value of 4.5 [01234]{28} "
       ]
      },
      {
       "output_type": "stream",
       "stream": "stdout",
       "text": [
        " \n",
        "\n",
        "=================================================\n",
        "\n",
        "{'tau': [5, 0], 'e': [5, 0], 'rep': [5, 0], 'consec': [5, 0], 'pi': [5, 0], 'root2': [5, 0]}\n",
        "{'primes': [4, 0], 'fib1': [4, 0], 'fib0': [4, 0]}\n",
        "{'even': [29, 36454143], '4 or less': [28, 39904079], '5 or more': [28, 2946688], 'primed': [26, 896631791], 'not': [196, 18522937], 'odd': [30, 92438125]}\n",
        "{'112263': [0, 0], '8675309': [0, 0], '0123456789': [0, 0], '[^6]666': [0, 0], '9876543210': [0, 0], '18007476492568': [0, 0]}\n",
        "Total elapsed time: 12.4 minutes.\n",
        "\n",
        "=================================================\n",
        "\n",
        "testing "
       ]
      },
      {
       "output_type": "stream",
       "stream": "stdout",
       "text": [
        " prime digits [2357]{26} "
       ]
      },
      {
       "output_type": "stream",
       "stream": "stdout",
       "text": [
        " \n",
        "testing  even digits [02468]{29} "
       ]
      },
      {
       "output_type": "stream",
       "stream": "stdout",
       "text": [
        " \n",
        "testing  odd digits [13579]{30} "
       ]
      },
      {
       "output_type": "stream",
       "stream": "stdout",
       "text": [
        " \n",
        "testing  not containing a particular digit [^0]{196} "
       ]
      },
      {
       "output_type": "stream",
       "stream": "stdout",
       "text": [
        " \n",
        "[^1]{196} "
       ]
      },
      {
       "output_type": "stream",
       "stream": "stdout",
       "text": [
        " \n",
        "[^2]{196} "
       ]
      },
      {
       "output_type": "stream",
       "stream": "stdout",
       "text": [
        " \n",
        "[^3]{196} "
       ]
      },
      {
       "output_type": "stream",
       "stream": "stdout",
       "text": [
        " \n",
        "[^4]{196} "
       ]
      },
      {
       "output_type": "stream",
       "stream": "stdout",
       "text": [
        " \n",
        "[^5]{196} "
       ]
      },
      {
       "output_type": "stream",
       "stream": "stdout",
       "text": [
        " \n",
        "[^6]{196} "
       ]
      },
      {
       "output_type": "stream",
       "stream": "stdout",
       "text": [
        " \n",
        "[^7]{196} "
       ]
      },
      {
       "output_type": "stream",
       "stream": "stdout",
       "text": [
        " \n",
        "[^8]{196} "
       ]
      },
      {
       "output_type": "stream",
       "stream": "stdout",
       "text": [
        " \n",
        "[^9]{196} "
       ]
      },
      {
       "output_type": "stream",
       "stream": "stdout",
       "text": [
        " \n",
        "testing  digits greater than average value of 4.5 [56789]{28} "
       ]
      },
      {
       "output_type": "stream",
       "stream": "stdout",
       "text": [
        " \n",
        "testing  digits less than average value of 4.5 [01234]{28} "
       ]
      },
      {
       "output_type": "stream",
       "stream": "stdout",
       "text": [
        " \n",
        "\n",
        "=================================================\n",
        "\n",
        "{'tau': [5, 0], 'e': [5, 0], 'rep': [5, 0], 'consec': [5, 0], 'pi': [5, 0], 'root2': [5, 0]}\n",
        "{'primes': [4, 0], 'fib1': [4, 0], 'fib0': [4, 0]}\n",
        "{'even': [29, 36454143], '4 or less': [28, 39904079], '5 or more': [28, 2946688], 'primed': [26, 896631791], 'not': [196, 18522937], 'odd': [30, 92438125]}\n",
        "{'112263': [0, 0], '8675309': [0, 0], '0123456789': [0, 0], '[^6]666': [0, 0], '9876543210': [0, 0], '18007476492568': [0, 0]}\n",
        "Total elapsed time: 13.4 minutes.\n",
        "\n",
        "=================================================\n",
        "\n",
        "testing "
       ]
      },
      {
       "output_type": "stream",
       "stream": "stdout",
       "text": [
        " prime digits [2357]{26} "
       ]
      },
      {
       "output_type": "stream",
       "stream": "stdout",
       "text": [
        " \n",
        "testing  even digits [02468]{29} "
       ]
      },
      {
       "output_type": "stream",
       "stream": "stdout",
       "text": [
        " \n",
        "testing  odd digits [13579]{30} "
       ]
      },
      {
       "output_type": "stream",
       "stream": "stdout",
       "text": [
        " \n",
        "testing  not containing a particular digit [^0]{196} "
       ]
      },
      {
       "output_type": "stream",
       "stream": "stdout",
       "text": [
        " \n",
        "[^1]{196} "
       ]
      },
      {
       "output_type": "stream",
       "stream": "stdout",
       "text": [
        " \n",
        "[^2]{196} "
       ]
      },
      {
       "output_type": "stream",
       "stream": "stdout",
       "text": [
        " \n",
        "[^3]{196} "
       ]
      },
      {
       "output_type": "stream",
       "stream": "stdout",
       "text": [
        " \n",
        "[^4]{196} "
       ]
      },
      {
       "output_type": "stream",
       "stream": "stdout",
       "text": [
        " \n",
        "[^5]{196} "
       ]
      },
      {
       "output_type": "stream",
       "stream": "stdout",
       "text": [
        " \n",
        "[^6]{196} "
       ]
      },
      {
       "output_type": "stream",
       "stream": "stdout",
       "text": [
        " \n",
        "[^7]{196} "
       ]
      },
      {
       "output_type": "stream",
       "stream": "stdout",
       "text": [
        " \n",
        "[^8]{196} "
       ]
      },
      {
       "output_type": "stream",
       "stream": "stdout",
       "text": [
        " \n",
        "[^9]{196} "
       ]
      },
      {
       "output_type": "stream",
       "stream": "stdout",
       "text": [
        " \n",
        "testing  digits greater than average value of 4.5 [56789]{28} "
       ]
      },
      {
       "output_type": "stream",
       "stream": "stdout",
       "text": [
        " \n",
        "testing  digits less than average value of 4.5 [01234]{28} "
       ]
      },
      {
       "output_type": "stream",
       "stream": "stdout",
       "text": [
        " \n",
        "\n",
        "=================================================\n",
        "\n",
        "{'tau': [5, 0], 'e': [5, 0], 'rep': [5, 0], 'consec': [5, 0], 'pi': [5, 0], 'root2': [5, 0]}\n",
        "{'primes': [4, 0], 'fib1': [4, 0], 'fib0': [4, 0]}\n",
        "{'even': [29, 36454143], '4 or less': [28, 39904079], '5 or more': [28, 2946688], 'primed': [26, 896631791], 'not': [196, 18522937], 'odd': [30, 92438125]}\n",
        "{'112263': [0, 0], '8675309': [0, 0], '0123456789': [0, 0], '[^6]666': [0, 0], '9876543210': [0, 0], '18007476492568': [0, 0]}\n",
        "Total elapsed time: 14.4 minutes.\n",
        "\n",
        "=================================================\n",
        "\n",
        "testing "
       ]
      },
      {
       "output_type": "stream",
       "stream": "stdout",
       "text": [
        " prime digits [2357]{26} "
       ]
      },
      {
       "output_type": "stream",
       "stream": "stdout",
       "text": [
        " \n",
        "testing  even digits [02468]{29} "
       ]
      },
      {
       "output_type": "stream",
       "stream": "stdout",
       "text": [
        " \n",
        "testing  odd digits [13579]{30} "
       ]
      },
      {
       "output_type": "stream",
       "stream": "stdout",
       "text": [
        " \n",
        "testing  not containing a particular digit [^0]{196} "
       ]
      },
      {
       "output_type": "stream",
       "stream": "stdout",
       "text": [
        " \n",
        "[^1]{196} "
       ]
      },
      {
       "output_type": "stream",
       "stream": "stdout",
       "text": [
        " \n",
        "[^2]{196} "
       ]
      },
      {
       "output_type": "stream",
       "stream": "stdout",
       "text": [
        " \n",
        "[^3]{196} "
       ]
      },
      {
       "output_type": "stream",
       "stream": "stdout",
       "text": [
        " \n",
        "[^4]{196} "
       ]
      },
      {
       "output_type": "stream",
       "stream": "stdout",
       "text": [
        " \n",
        "[^5]{196} "
       ]
      },
      {
       "output_type": "stream",
       "stream": "stdout",
       "text": [
        " \n",
        "[^6]{196} "
       ]
      },
      {
       "output_type": "stream",
       "stream": "stdout",
       "text": [
        " \n",
        "[^7]{196} "
       ]
      },
      {
       "output_type": "stream",
       "stream": "stdout",
       "text": [
        " \n",
        "[^8]{196} "
       ]
      },
      {
       "output_type": "stream",
       "stream": "stdout",
       "text": [
        " \n",
        "[^9]{196} "
       ]
      },
      {
       "output_type": "stream",
       "stream": "stdout",
       "text": [
        " \n",
        "testing  digits greater than average value of 4.5 [56789]{28} "
       ]
      },
      {
       "output_type": "stream",
       "stream": "stdout",
       "text": [
        " \n",
        "testing  digits less than average value of 4.5 [01234]{28} "
       ]
      },
      {
       "output_type": "stream",
       "stream": "stdout",
       "text": [
        " \n",
        "\n",
        "=================================================\n",
        "\n",
        "{'tau': [5, 0], 'e': [5, 0], 'rep': [5, 0], 'consec': [5, 0], 'pi': [5, 0], 'root2': [5, 0]}\n",
        "{'primes': [4, 0], 'fib1': [4, 0], 'fib0': [4, 0]}\n",
        "{'even': [29, 36454143], '4 or less': [28, 39904079], '5 or more': [28, 2946688], 'primed': [26, 896631791], 'not': [196, 18522937], 'odd': [30, 92438125]}\n",
        "{'112263': [0, 0], '8675309': [0, 0], '0123456789': [0, 0], '[^6]666': [0, 0], '9876543210': [0, 0], '18007476492568': [0, 0]}\n",
        "Total elapsed time: 15.4 minutes.\n",
        "\n",
        "=================================================\n",
        "\n",
        "testing "
       ]
      },
      {
       "output_type": "stream",
       "stream": "stdout",
       "text": [
        " prime digits [2357]{26} "
       ]
      },
      {
       "output_type": "stream",
       "stream": "stdout",
       "text": [
        " \n",
        "testing  even digits [02468]{29} "
       ]
      },
      {
       "output_type": "stream",
       "stream": "stdout",
       "text": [
        " \n",
        "testing  odd digits [13579]{30} "
       ]
      },
      {
       "output_type": "stream",
       "stream": "stdout",
       "text": [
        " \n",
        "testing  not containing a particular digit [^0]{196} "
       ]
      },
      {
       "output_type": "stream",
       "stream": "stdout",
       "text": [
        " \n",
        "[^1]{196} "
       ]
      },
      {
       "output_type": "stream",
       "stream": "stdout",
       "text": [
        " \n",
        "[^2]{196} "
       ]
      },
      {
       "output_type": "stream",
       "stream": "stdout",
       "text": [
        " \n",
        "[^3]{196} "
       ]
      },
      {
       "output_type": "stream",
       "stream": "stdout",
       "text": [
        " \n",
        "[^4]{196} "
       ]
      },
      {
       "output_type": "stream",
       "stream": "stdout",
       "text": [
        " \n",
        "[^5]{196} "
       ]
      },
      {
       "output_type": "stream",
       "stream": "stdout",
       "text": [
        " \n",
        "[^6]{196} "
       ]
      },
      {
       "output_type": "stream",
       "stream": "stdout",
       "text": [
        " \n",
        "[^7]{196} "
       ]
      },
      {
       "output_type": "stream",
       "stream": "stdout",
       "text": [
        " \n",
        "[^8]{196} "
       ]
      },
      {
       "output_type": "stream",
       "stream": "stdout",
       "text": [
        " \n",
        "[^9]{196} "
       ]
      },
      {
       "output_type": "stream",
       "stream": "stdout",
       "text": [
        " \n",
        "testing  digits greater than average value of 4.5 [56789]{28} "
       ]
      },
      {
       "output_type": "stream",
       "stream": "stdout",
       "text": [
        " \n",
        "testing  digits less than average value of 4.5 [01234]{28} "
       ]
      },
      {
       "output_type": "stream",
       "stream": "stdout",
       "text": [
        " \n",
        "\n",
        "=================================================\n",
        "\n",
        "{'tau': [5, 0], 'e': [5, 0], 'rep': [5, 0], 'consec': [5, 0], 'pi': [5, 0], 'root2': [5, 0]}\n",
        "{'primes': [4, 0], 'fib1': [4, 0], 'fib0': [4, 0]}\n",
        "{'even': [29, 36454143], '4 or less': [28, 39904079], '5 or more': [28, 2946688], 'primed': [26, 896631791], 'not': [196, 18522937], 'odd': [30, 92438125]}\n",
        "{'112263': [0, 0], '8675309': [0, 0], '0123456789': [0, 0], '[^6]666': [0, 0], '9876543210': [0, 0], '18007476492568': [0, 0]}\n",
        "Total elapsed time: 16.3 minutes.\n",
        "\n",
        "=================================================\n",
        "\n",
        "testing "
       ]
      },
      {
       "output_type": "stream",
       "stream": "stdout",
       "text": [
        " prime digits [2357]{26} "
       ]
      },
      {
       "output_type": "stream",
       "stream": "stdout",
       "text": [
        " \n",
        "testing  even digits [02468]{29} "
       ]
      },
      {
       "output_type": "stream",
       "stream": "stdout",
       "text": [
        " \n",
        "testing  odd digits [13579]{30} "
       ]
      },
      {
       "output_type": "stream",
       "stream": "stdout",
       "text": [
        " \n",
        "testing  not containing a particular digit [^0]{196} "
       ]
      },
      {
       "output_type": "stream",
       "stream": "stdout",
       "text": [
        " \n",
        "[^1]{196} "
       ]
      },
      {
       "output_type": "stream",
       "stream": "stdout",
       "text": [
        " \n",
        "[^2]{196} "
       ]
      },
      {
       "output_type": "stream",
       "stream": "stdout",
       "text": [
        " \n",
        "[^3]{196} "
       ]
      },
      {
       "output_type": "stream",
       "stream": "stdout",
       "text": [
        " \n",
        "[^4]{196} "
       ]
      },
      {
       "output_type": "stream",
       "stream": "stdout",
       "text": [
        " \n",
        "[^5]{196} "
       ]
      },
      {
       "output_type": "stream",
       "stream": "stdout",
       "text": [
        " \n",
        "[^6]{196} "
       ]
      },
      {
       "output_type": "stream",
       "stream": "stdout",
       "text": [
        "[^6]{197} "
       ]
      },
      {
       "output_type": "stream",
       "stream": "stdout",
       "text": [
        "[^6]{198} "
       ]
      },
      {
       "output_type": "stream",
       "stream": "stdout",
       "text": [
        "[^6]{199} "
       ]
      },
      {
       "output_type": "stream",
       "stream": "stdout",
       "text": [
        "[^6]{200} "
       ]
      },
      {
       "output_type": "stream",
       "stream": "stdout",
       "text": [
        "[^6]{201} "
       ]
      },
      {
       "output_type": "stream",
       "stream": "stdout",
       "text": [
        "[^6]{202} "
       ]
      },
      {
       "output_type": "stream",
       "stream": "stdout",
       "text": [
        "[^6]{203} "
       ]
      },
      {
       "output_type": "stream",
       "stream": "stdout",
       "text": [
        "[^6]{204} "
       ]
      },
      {
       "output_type": "stream",
       "stream": "stdout",
       "text": [
        "[^6]{205} "
       ]
      },
      {
       "output_type": "stream",
       "stream": "stdout",
       "text": [
        "[^6]{206} "
       ]
      },
      {
       "output_type": "stream",
       "stream": "stdout",
       "text": [
        "[^6]{207} "
       ]
      },
      {
       "output_type": "stream",
       "stream": "stdout",
       "text": [
        "[^6]{208} "
       ]
      },
      {
       "output_type": "stream",
       "stream": "stdout",
       "text": [
        "[^6]{209} "
       ]
      },
      {
       "output_type": "stream",
       "stream": "stdout",
       "text": [
        "[^6]{210} "
       ]
      },
      {
       "output_type": "stream",
       "stream": "stdout",
       "text": [
        " \n",
        "[^7]{210} "
       ]
      },
      {
       "output_type": "stream",
       "stream": "stdout",
       "text": [
        " \n",
        "[^8]{210} "
       ]
      },
      {
       "output_type": "stream",
       "stream": "stdout",
       "text": [
        " \n",
        "[^9]{210} "
       ]
      },
      {
       "output_type": "stream",
       "stream": "stdout",
       "text": [
        " \n",
        "testing  digits greater than average value of 4.5 [56789]{28} "
       ]
      },
      {
       "output_type": "stream",
       "stream": "stdout",
       "text": [
        " \n",
        "testing  digits less than average value of 4.5 [01234]{28} "
       ]
      },
      {
       "output_type": "stream",
       "stream": "stdout",
       "text": [
        " \n",
        "\n",
        "=================================================\n",
        "\n",
        "{'tau': [5, 0], 'e': [5, 0], 'rep': [5, 0], 'consec': [5, 0], 'pi': [5, 0], 'root2': [5, 0]}\n",
        "{'primes': [4, 0], 'fib1': [4, 0], 'fib0': [4, 0]}\n",
        "{'even': [29, 36454143], '4 or less': [28, 39904079], '5 or more': [28, 2946688], 'primed': [26, 896631791], 'not': [210, 362783626], 'odd': [30, 92438125]}\n",
        "{'112263': [0, 0], '8675309': [0, 0], '0123456789': [0, 0], '[^6]666': [0, 0], '9876543210': [0, 0], '18007476492568': [0, 0]}\n",
        "Total elapsed time: 17.9 minutes.\n",
        "\n",
        "=================================================\n",
        "\n",
        "testing "
       ]
      },
      {
       "output_type": "stream",
       "stream": "stdout",
       "text": [
        " prime digits [2357]{26} "
       ]
      },
      {
       "output_type": "stream",
       "stream": "stdout",
       "text": [
        " \n",
        "testing  even digits [02468]{29} "
       ]
      },
      {
       "output_type": "stream",
       "stream": "stdout",
       "text": [
        " \n",
        "testing  odd digits [13579]{30} "
       ]
      },
      {
       "output_type": "stream",
       "stream": "stdout",
       "text": [
        " \n",
        "testing  not containing a particular digit [^0]{210} "
       ]
      },
      {
       "output_type": "stream",
       "stream": "stdout",
       "text": [
        " \n",
        "[^1]{210} "
       ]
      },
      {
       "output_type": "stream",
       "stream": "stdout",
       "text": [
        " \n",
        "[^2]{210} "
       ]
      },
      {
       "output_type": "stream",
       "stream": "stdout",
       "text": [
        " \n",
        "[^3]{210} "
       ]
      },
      {
       "output_type": "stream",
       "stream": "stdout",
       "text": [
        " \n",
        "[^4]{210} "
       ]
      },
      {
       "output_type": "stream",
       "stream": "stdout",
       "text": [
        " \n",
        "[^5]{210} "
       ]
      },
      {
       "output_type": "stream",
       "stream": "stdout",
       "text": [
        " \n",
        "[^6]{210} "
       ]
      },
      {
       "output_type": "stream",
       "stream": "stdout",
       "text": [
        " \n",
        "[^7]{210} "
       ]
      },
      {
       "output_type": "stream",
       "stream": "stdout",
       "text": [
        " \n",
        "[^8]{210} "
       ]
      },
      {
       "output_type": "stream",
       "stream": "stdout",
       "text": [
        " \n",
        "[^9]{210} "
       ]
      },
      {
       "output_type": "stream",
       "stream": "stdout",
       "text": [
        " \n",
        "testing  digits greater than average value of 4.5 [56789]{28} "
       ]
      },
      {
       "output_type": "stream",
       "stream": "stdout",
       "text": [
        " \n",
        "testing  digits less than average value of 4.5 [01234]{28} "
       ]
      },
      {
       "output_type": "stream",
       "stream": "stdout",
       "text": [
        " \n",
        "\n",
        "=================================================\n",
        "\n",
        "{'tau': [5, 0], 'e': [5, 0], 'rep': [5, 0], 'consec': [5, 0], 'pi': [5, 0], 'root2': [5, 0]}\n",
        "{'primes': [4, 0], 'fib1': [4, 0], 'fib0': [4, 0]}\n",
        "{'even': [29, 36454143], '4 or less': [28, 39904079], '5 or more': [28, 2946688], 'primed': [26, 896631791], 'not': [210, 362783626], 'odd': [30, 92438125]}\n",
        "{'112263': [0, 0], '8675309': [0, 0], '0123456789': [0, 0], '[^6]666': [0, 0], '9876543210': [0, 0], '18007476492568': [0, 0]}\n",
        "Total elapsed time: 18.8 minutes.\n",
        "\n",
        "=================================================\n",
        "\n",
        "testing "
       ]
      },
      {
       "output_type": "stream",
       "stream": "stdout",
       "text": [
        " prime digits [2357]{26} "
       ]
      },
      {
       "output_type": "stream",
       "stream": "stdout",
       "text": [
        " \n",
        "testing  even digits [02468]{29} "
       ]
      },
      {
       "output_type": "stream",
       "stream": "stdout",
       "text": [
        " \n",
        "testing  odd digits [13579]{30} "
       ]
      },
      {
       "output_type": "stream",
       "stream": "stdout",
       "text": [
        " \n",
        "testing  not containing a particular digit [^0]{210} "
       ]
      },
      {
       "output_type": "stream",
       "stream": "stdout",
       "text": [
        " \n",
        "[^1]{210} "
       ]
      },
      {
       "output_type": "stream",
       "stream": "stdout",
       "text": [
        " \n",
        "[^2]{210} "
       ]
      },
      {
       "output_type": "stream",
       "stream": "stdout",
       "text": [
        " \n",
        "[^3]{210} "
       ]
      },
      {
       "output_type": "stream",
       "stream": "stdout",
       "text": [
        " \n",
        "[^4]{210} "
       ]
      },
      {
       "output_type": "stream",
       "stream": "stdout",
       "text": [
        " \n",
        "[^5]{210} "
       ]
      },
      {
       "output_type": "stream",
       "stream": "stdout",
       "text": [
        " \n",
        "[^6]{210} "
       ]
      },
      {
       "output_type": "stream",
       "stream": "stdout",
       "text": [
        " \n",
        "[^7]{210} "
       ]
      },
      {
       "output_type": "stream",
       "stream": "stdout",
       "text": [
        " \n",
        "[^8]{210} "
       ]
      },
      {
       "output_type": "stream",
       "stream": "stdout",
       "text": [
        " \n",
        "[^9]{210} "
       ]
      },
      {
       "output_type": "stream",
       "stream": "stdout",
       "text": [
        " \n",
        "testing  digits greater than average value of 4.5 [56789]{28} "
       ]
      },
      {
       "output_type": "stream",
       "stream": "stdout",
       "text": [
        " \n",
        "testing  digits less than average value of 4.5 [01234]{28} "
       ]
      },
      {
       "output_type": "stream",
       "stream": "stdout",
       "text": [
        " \n",
        "\n",
        "=================================================\n",
        "\n",
        "{'tau': [5, 0], 'e': [5, 0], 'rep': [5, 0], 'consec': [5, 0], 'pi': [5, 0], 'root2': [5, 0]}\n",
        "{'primes': [4, 0], 'fib1': [4, 0], 'fib0': [4, 0]}\n",
        "{'even': [29, 36454143], '4 or less': [28, 39904079], '5 or more': [28, 2946688], 'primed': [26, 896631791], 'not': [210, 362783626], 'odd': [30, 92438125]}\n",
        "{'112263': [0, 0], '8675309': [0, 0], '0123456789': [0, 0], '[^6]666': [0, 0], '9876543210': [0, 0], '18007476492568': [0, 0]}\n",
        "Total elapsed time: 19.8 minutes.\n",
        "\n",
        "=================================================\n",
        "\n",
        "testing "
       ]
      },
      {
       "output_type": "stream",
       "stream": "stdout",
       "text": [
        " prime digits [2357]{26} "
       ]
      },
      {
       "output_type": "stream",
       "stream": "stdout",
       "text": [
        " \n",
        "testing  even digits [02468]{29} "
       ]
      },
      {
       "output_type": "stream",
       "stream": "stdout",
       "text": [
        " \n",
        "testing  odd digits [13579]{30} "
       ]
      },
      {
       "output_type": "stream",
       "stream": "stdout",
       "text": [
        " \n",
        "testing  not containing a particular digit [^0]{210} "
       ]
      },
      {
       "output_type": "stream",
       "stream": "stdout",
       "text": [
        " \n",
        "[^1]{210} "
       ]
      },
      {
       "output_type": "stream",
       "stream": "stdout",
       "text": [
        " \n",
        "[^2]{210} "
       ]
      },
      {
       "output_type": "stream",
       "stream": "stdout",
       "text": [
        " \n",
        "[^3]{210} "
       ]
      },
      {
       "output_type": "stream",
       "stream": "stdout",
       "text": [
        " \n",
        "[^4]{210} "
       ]
      },
      {
       "output_type": "stream",
       "stream": "stdout",
       "text": [
        " \n",
        "[^5]{210} "
       ]
      },
      {
       "output_type": "stream",
       "stream": "stdout",
       "text": [
        " \n",
        "[^6]{210} "
       ]
      },
      {
       "output_type": "stream",
       "stream": "stdout",
       "text": [
        " \n",
        "[^7]{210} "
       ]
      },
      {
       "output_type": "stream",
       "stream": "stdout",
       "text": [
        " \n",
        "[^8]{210} "
       ]
      },
      {
       "output_type": "stream",
       "stream": "stdout",
       "text": [
        " \n",
        "[^9]{210} "
       ]
      },
      {
       "output_type": "stream",
       "stream": "stdout",
       "text": [
        " \n",
        "testing  digits greater than average value of 4.5 [56789]{28} "
       ]
      },
      {
       "output_type": "stream",
       "stream": "stdout",
       "text": [
        "[56789]{29} "
       ]
      },
      {
       "output_type": "stream",
       "stream": "stdout",
       "text": [
        "[56789]{30} "
       ]
      },
      {
       "output_type": "stream",
       "stream": "stdout",
       "text": [
        " \n",
        "testing  digits less than average value of 4.5 [01234]{28} "
       ]
      },
      {
       "output_type": "stream",
       "stream": "stdout",
       "text": [
        " \n",
        "\n",
        "=================================================\n",
        "\n",
        "{'tau': [5, 0], 'e': [5, 0], 'rep': [5, 0], 'consec': [5, 0], 'pi': [5, 0], 'root2': [5, 0]}\n",
        "{'primes': [4, 0], 'fib1': [4, 0], 'fib0': [4, 0]}\n",
        "{'even': [29, 36454143], '4 or less': [28, 39904079], '5 or more': [30, 661974156], 'primed': [26, 896631791], 'not': [210, 362783626], 'odd': [30, 92438125]}\n",
        "{'112263': [0, 0], '8675309': [0, 0], '0123456789': [0, 0], '[^6]666': [0, 0], '9876543210': [0, 0], '18007476492568': [0, 0]}\n",
        "Total elapsed time: 20.8 minutes.\n",
        "\n",
        "=================================================\n",
        "\n",
        "testing "
       ]
      },
      {
       "output_type": "stream",
       "stream": "stdout",
       "text": [
        " prime digits [2357]{26} "
       ]
      },
      {
       "output_type": "stream",
       "stream": "stdout",
       "text": [
        " \n",
        "testing  even digits [02468]{29} "
       ]
      },
      {
       "output_type": "stream",
       "stream": "stdout",
       "text": [
        " \n",
        "testing  odd digits [13579]{30} "
       ]
      },
      {
       "output_type": "stream",
       "stream": "stdout",
       "text": [
        " \n",
        "testing  not containing a particular digit [^0]{210} "
       ]
      },
      {
       "output_type": "stream",
       "stream": "stdout",
       "text": [
        " \n",
        "[^1]{210} "
       ]
      },
      {
       "output_type": "stream",
       "stream": "stdout",
       "text": [
        " \n",
        "[^2]{210} "
       ]
      },
      {
       "output_type": "stream",
       "stream": "stdout",
       "text": [
        " \n",
        "[^3]{210} "
       ]
      },
      {
       "output_type": "stream",
       "stream": "stdout",
       "text": [
        " \n",
        "[^4]{210} "
       ]
      },
      {
       "output_type": "stream",
       "stream": "stdout",
       "text": [
        " \n",
        "[^5]{210} "
       ]
      },
      {
       "output_type": "stream",
       "stream": "stdout",
       "text": [
        " \n",
        "[^6]{210} "
       ]
      },
      {
       "output_type": "stream",
       "stream": "stdout",
       "text": [
        " \n",
        "[^7]{210} "
       ]
      },
      {
       "output_type": "stream",
       "stream": "stdout",
       "text": [
        " \n",
        "[^8]{210} "
       ]
      },
      {
       "output_type": "stream",
       "stream": "stdout",
       "text": [
        " \n",
        "[^9]{210} "
       ]
      },
      {
       "output_type": "stream",
       "stream": "stdout",
       "text": [
        " \n",
        "testing  digits greater than average value of 4.5 [56789]{30} "
       ]
      },
      {
       "output_type": "stream",
       "stream": "stdout",
       "text": [
        " \n",
        "testing  digits less than average value of 4.5 [01234]{28} "
       ]
      },
      {
       "output_type": "stream",
       "stream": "stdout",
       "text": [
        " \n",
        "\n",
        "=================================================\n",
        "\n",
        "{'tau': [5, 0], 'e': [5, 0], 'rep': [5, 0], 'consec': [5, 0], 'pi': [5, 0], 'root2': [5, 0]}\n",
        "{'primes': [4, 0], 'fib1': [4, 0], 'fib0': [4, 0]}\n",
        "{'even': [29, 36454143], '4 or less': [28, 39904079], '5 or more': [30, 661974156], 'primed': [26, 896631791], 'not': [210, 362783626], 'odd': [30, 92438125]}\n",
        "{'112263': [0, 0], '8675309': [0, 0], '0123456789': [0, 0], '[^6]666': [0, 0], '9876543210': [0, 0], '18007476492568': [0, 0]}\n",
        "Total elapsed time: 21.8 minutes.\n",
        "\n",
        "=================================================\n",
        "\n",
        "testing "
       ]
      },
      {
       "output_type": "stream",
       "stream": "stdout",
       "text": [
        " prime digits [2357]{26} "
       ]
      },
      {
       "output_type": "stream",
       "stream": "stdout",
       "text": [
        " \n",
        "testing  even digits [02468]{29} "
       ]
      },
      {
       "output_type": "stream",
       "stream": "stdout",
       "text": [
        " \n",
        "testing  odd digits [13579]{30} "
       ]
      },
      {
       "output_type": "stream",
       "stream": "stdout",
       "text": [
        " \n",
        "testing  not containing a particular digit [^0]{210} "
       ]
      },
      {
       "output_type": "stream",
       "stream": "stdout",
       "text": [
        " \n",
        "[^1]{210} "
       ]
      },
      {
       "output_type": "stream",
       "stream": "stdout",
       "text": [
        " \n",
        "[^2]{210} "
       ]
      },
      {
       "output_type": "stream",
       "stream": "stdout",
       "text": [
        " \n",
        "[^3]{210} "
       ]
      },
      {
       "output_type": "stream",
       "stream": "stdout",
       "text": [
        " \n",
        "[^4]{210} "
       ]
      },
      {
       "output_type": "stream",
       "stream": "stdout",
       "text": [
        " \n",
        "[^5]{210} "
       ]
      },
      {
       "output_type": "stream",
       "stream": "stdout",
       "text": [
        " \n",
        "[^6]{210} "
       ]
      },
      {
       "output_type": "stream",
       "stream": "stdout",
       "text": [
        " \n",
        "[^7]{210} "
       ]
      },
      {
       "output_type": "stream",
       "stream": "stdout",
       "text": [
        " \n",
        "[^8]{210} "
       ]
      },
      {
       "output_type": "stream",
       "stream": "stdout",
       "text": [
        " \n",
        "[^9]{210} "
       ]
      },
      {
       "output_type": "stream",
       "stream": "stdout",
       "text": [
        " \n",
        "testing  digits greater than average value of 4.5 [56789]{30} "
       ]
      },
      {
       "output_type": "stream",
       "stream": "stdout",
       "text": [
        " \n",
        "testing  digits less than average value of 4.5 [01234]{28} "
       ]
      },
      {
       "output_type": "stream",
       "stream": "stdout",
       "text": [
        " \n",
        "\n",
        "=================================================\n",
        "\n",
        "{'tau': [5, 0], 'e': [5, 0], 'rep': [5, 0], 'consec': [5, 0], 'pi': [5, 0], 'root2': [5, 0]}\n",
        "{'primes': [4, 0], 'fib1': [4, 0], 'fib0': [4, 0]}\n",
        "{'even': [29, 36454143], '4 or less': [28, 39904079], '5 or more': [30, 661974156], 'primed': [26, 896631791], 'not': [210, 362783626], 'odd': [30, 92438125]}\n",
        "{'112263': [0, 0], '8675309': [0, 0], '0123456789': [0, 0], '[^6]666': [0, 0], '9876543210': [0, 0], '18007476492568': [0, 0]}\n",
        "Total elapsed time: 22.8 minutes.\n",
        "\n",
        "=================================================\n",
        "\n",
        "testing "
       ]
      },
      {
       "output_type": "stream",
       "stream": "stdout",
       "text": [
        " prime digits [2357]{26} "
       ]
      },
      {
       "output_type": "stream",
       "stream": "stdout",
       "text": [
        " \n",
        "testing  even digits [02468]{29} "
       ]
      },
      {
       "output_type": "stream",
       "stream": "stdout",
       "text": [
        " \n",
        "testing  odd digits [13579]{30} "
       ]
      },
      {
       "output_type": "stream",
       "stream": "stdout",
       "text": [
        " \n",
        "testing  not containing a particular digit [^0]{210} "
       ]
      },
      {
       "output_type": "stream",
       "stream": "stdout",
       "text": [
        " \n",
        "[^1]{210} "
       ]
      },
      {
       "output_type": "stream",
       "stream": "stdout",
       "text": [
        " \n",
        "[^2]{210} "
       ]
      },
      {
       "output_type": "stream",
       "stream": "stdout",
       "text": [
        " \n",
        "[^3]{210} "
       ]
      },
      {
       "output_type": "stream",
       "stream": "stdout",
       "text": [
        " \n",
        "[^4]{210} "
       ]
      },
      {
       "output_type": "stream",
       "stream": "stdout",
       "text": [
        " \n",
        "[^5]{210} "
       ]
      },
      {
       "output_type": "stream",
       "stream": "stdout",
       "text": [
        " \n",
        "[^6]{210} "
       ]
      },
      {
       "output_type": "stream",
       "stream": "stdout",
       "text": [
        " \n",
        "[^7]{210} "
       ]
      },
      {
       "output_type": "stream",
       "stream": "stdout",
       "text": [
        " \n",
        "[^8]{210} "
       ]
      },
      {
       "output_type": "stream",
       "stream": "stdout",
       "text": [
        " \n",
        "[^9]{210} "
       ]
      },
      {
       "output_type": "stream",
       "stream": "stdout",
       "text": [
        " \n",
        "testing  digits greater than average value of 4.5 [56789]{30} "
       ]
      },
      {
       "output_type": "stream",
       "stream": "stdout",
       "text": [
        " \n",
        "testing  digits less than average value of 4.5 [01234]{28} "
       ]
      },
      {
       "output_type": "stream",
       "stream": "stdout",
       "text": [
        "[01234]{29} "
       ]
      },
      {
       "output_type": "stream",
       "stream": "stdout",
       "text": [
        "[01234]{30} "
       ]
      },
      {
       "output_type": "stream",
       "stream": "stdout",
       "text": [
        "[01234]{31} "
       ]
      },
      {
       "output_type": "stream",
       "stream": "stdout",
       "text": [
        "[01234]{32} "
       ]
      },
      {
       "output_type": "stream",
       "stream": "stdout",
       "text": [
        " \n",
        "\n",
        "=================================================\n",
        "\n",
        "{'tau': [5, 0], 'e': [5, 0], 'rep': [5, 0], 'consec': [5, 0], 'pi': [5, 0], 'root2': [5, 0]}\n",
        "{'primes': [4, 0], 'fib1': [4, 0], 'fib0': [4, 0]}\n",
        "{'even': [29, 36454143], '4 or less': [32, 930785842], '5 or more': [30, 661974156], 'primed': [26, 896631791], 'not': [210, 362783626], 'odd': [30, 92438125]}\n",
        "{'112263': [0, 0], '8675309': [0, 0], '0123456789': [0, 0], '[^6]666': [0, 0], '9876543210': [0, 0], '18007476492568': [0, 0]}\n",
        "Total elapsed time: 23.8 minutes.\n",
        "\n",
        "=================================================\n",
        "\n"
       ]
      }
     ],
     "prompt_number": 3
    },
    {
     "cell_type": "code",
     "collapsed": false,
     "input": [],
     "language": "python",
     "metadata": {},
     "outputs": []
    }
   ],
   "metadata": {}
  }
 ]
}