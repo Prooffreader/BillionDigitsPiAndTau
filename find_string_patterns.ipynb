{
 "metadata": {
  "name": "find_string_patterns.ipynb"
 },
 "nbformat": 3,
 "nbformat_minor": 0,
 "worksheets": [
  {
   "cells": [
    {
     "cell_type": "markdown",
     "metadata": {},
     "source": [
      "# find_string_patterns.ipynb\n",
      "\n",
      "You will need to run ``run_me_first`` and ``calculate_tau`` first.\n",
      "\n",
      "This script finds patterns in pi and tau by performing string searches. The search criteria are divided into four groups:\n",
      "\n",
      "Group 1: patterns consisting of a string of single digits with a defined startpoint and variable length\n",
      "\n",
      "* repeated digits\n",
      "* digits consecutively increasing or decreasing by 1\n",
      "* the digits of pi, tau, e or root 2\n",
      "\n",
      "Group 2: patterns consisting of a string of digits with a defined startpoint and variable internal length (e.g. for the primes, 2357 and 235711 would be positive matches but 23571 would not.)\n",
      "\n",
      "* primes or the fibonacci sequences (starting at 0 or 1)\n",
      "\n",
      "Group 3: regex patterns\n",
      "\n",
      "* consecutive even, odd or prime numbers\n",
      "* consecutive digits not containing one particular digit\n",
      "* consecutive digits above or below the digit average of 4.5\n",
      "* consecutive binary digits (0 or 1)\n",
      "\n",
      "Group 4: finding specific digits\n",
      "\n",
      "* Jenny's number (8675309)\n",
      "* The Sir Mix-A-Lot number (18007476492568)\n",
      "* All 10 digits in increasing or decreasing order\n",
      "* The Kennedy assassination date (112263)\n",
      "* The number of the beast (666); it counts any string of 3 or more ocnsecutive 6s as one match\n",
      "\n",
      "To avoid missing matches over a file break, the first 1000 digits from the next file are added to the end"
     ]
    },
    {
     "cell_type": "code",
     "collapsed": false,
     "input": [
      "# in case you want to redo only parts of the analyses, you can change any of these to False.\n",
      "\n",
      "do_group_1 = False\n",
      "do_group_2 = False\n",
      "do_group_3 = False\n",
      "do_group_4 = True\n",
      "\n",
      "import re\n",
      "import json\n",
      "import time\n",
      "\n",
      "################################################################################\n",
      "# DEFINE SEARCH TERMS\n",
      "# tests have three elements: abbreviation, full description, and a tuplet\n",
      "# of search terms\n",
      "# note that if a match as long as the search term appears for sequences,\n",
      "# the search term will need to be lengthened.\n",
      "\n",
      "group_1 = [\n",
      "('rep', 'repeating digits', ('00000000000000000000',\n",
      "                              '11111111111111111111',\n",
      "                              '22222222222222222222',\n",
      "                              '33333333333333333333',\n",
      "                              '44444444444444444444',\n",
      "                              '55555555555555555555',\n",
      "                              '66666666666666666666',\n",
      "                              '77777777777777777777',\n",
      "                              '88888888888888888888',\n",
      "                              '99999999999999999999')),\n",
      "('consec', 'consecutive increasing or decreasing digits', ('01234567890123456789',\n",
      "                                                        '12345678901234567890',\n",
      "                                                        '23456789012345678901',\n",
      "                                                        '34567890123456789012',\n",
      "                                                        '45678901234567890123',\n",
      "                                                        '56789012345678901234',\n",
      "                                                        '67890123456789012345',\n",
      "                                                        '78901234567890123456',\n",
      "                                                        '89012345678901234567',\n",
      "                                                        '90123456789012345678',\n",
      "                                                        '01234567890123456789',\n",
      "                                                        '98765432109876543210',\n",
      "                                                        '87654321098765432109',\n",
      "                                                        '76543210987654321098',\n",
      "                                                        '65432109876543210987',\n",
      "                                                        '54321098765432109876',\n",
      "                                                        '43210987654321098765',\n",
      "                                                        '32109876543210987654',\n",
      "                                                        '21098765432109876543',\n",
      "                                                        '10987654321098765432',\n",
      "                                                        '09876543210987654321')),\n",
      "('pi', 'the digits of pi', ['3141592653589793238462643']),\n",
      "('tau', 'the digits of tau', ['6283185307179586476925286']),\n",
      "('e', \"the digits of Euler's number\", ['2718281828459045235360287']),\n",
      "('root2', 'the digits of the square root of two', ['1414213562373095048801688'])]\n",
      "\n",
      "# the last list is the positions new members of the group start at.\n",
      "group_2 = [('primes', 'the sequence of prime numbers', ['235711131719232931374143475359'], \n",
      "            [1,2,3,4,6,8,10,12,14,16,18,20,22]),\n",
      "                             ('fib0', 'fibonacci sequence starting at 0',['01123581321345589144233'], \n",
      "                              [1,2,3,4,5,6,7,9,11,13,15,17,30,23]),\n",
      "                             ('fib1', 'fibonacci sequence starting at 1',['1123581321345589144233'], \n",
      "                              [1,2,3,4,5,6,8,10,12,14,16,19,22])]\n",
      "\n",
      "group_3 = [('primed', 'prime digits', ['[2357]']),\n",
      "             ('even', 'even digits', ['[02468]']), \n",
      "             ('odd', 'odd digits', ['[13579]']),\n",
      "             ('not', 'not containing a particular digit', ('[^0]', '[^1]', '[^2]', '[^3]', '[^4]', '[^5]', \n",
      "                                                           '[^6]', '[^7]', '[^8]', '[^9]')),\n",
      "             ('5 or more', 'digits greater than average value of 4.5', ['[56789]']),\n",
      "             ('4 or less', 'digits less than average value of 4.5', ['[01234]']),\n",
      "             ('binary', 'zero or one', ['01'])]\n",
      "\n",
      "group_4 = ['8675309', '112263', '18007476492568', '[^6]666', '0123456789', '9876543210']\n",
      "\n",
      "\n",
      "\n",
      "group_1_results = {}\n",
      "for item in group_1:\n",
      "    group_1_results[item[0]] = [5, 0]\n",
      "    \n",
      "group_2_results = {}\n",
      "for item in group_2:\n",
      "    group_2_results[item[0]] = [4, 0]\n",
      "    \n",
      "group_3_results = {}\n",
      "for item in group_3:\n",
      "    group_3_results[item[0]] = [5, 0]\n",
      "\n",
      "group_4_results = {}\n",
      "\n",
      "for item in group_4:\n",
      "    group_4_results[item] = [0, 0]"
     ],
     "language": "python",
     "metadata": {},
     "outputs": [],
     "prompt_number": 3
    },
    {
     "cell_type": "code",
     "collapsed": false,
     "input": [
      "starttime = time.time()\n",
      "\n",
      "constant = 'tau' # restart kernel before changing to tau; otherwise some variables do not get reset\n",
      "\n",
      "for i in range(10):\n",
      "    infilename = 'data/' + constant + '100m.dectxt.00%d' % (i)\n",
      "    with open(infilename, 'r') as fin:\n",
      "        digits = fin.read()\n",
      "    \n",
      "    print \"processing\", infilename\n",
      "    if i < 9:\n",
      "        next1K = 'data/' + constant + '100m.dectxt.00%d.1K' % (i+1)\n",
      "        with open(next1K, 'r') as fin2:\n",
      "            moredigits = fin2.read()\n",
      "        digits += moredigits\n",
      "        \n",
      "    ###############################################################    \n",
      "    \n",
      "    if do_group_1:\n",
      "        for test in group_1:\n",
      "            print 'testing ',test[1],\n",
      "            name=test[0]\n",
      "            criteria=test[2]\n",
      "            curr_max = group_1_results[name][0]\n",
      "            curr_pos = group_1_results[name][1]\n",
      "            orig_max = curr_max\n",
      "            for criterion in criteria:\n",
      "                found = True\n",
      "                while found == True:\n",
      "                    to_search = criterion[:curr_max]\n",
      "                    print to_search,\n",
      "                    found_pos = digits.find(to_search)\n",
      "                    if found_pos != -1 and found_pos < 100000000:\n",
      "                        found_pos += i * 100000000\n",
      "                        if curr_max == orig_max: #if a search of the same length but at earlier position is found, it becomes the frontrunner\n",
      "                            if found_pos < curr_pos or curr_pos == 0:\n",
      "                                curr_pos = found_pos\n",
      "                        else:\n",
      "                            curr_pos = found_pos\n",
      "                        curr_max += 1\n",
      "                    else:\n",
      "                        found = False\n",
      "                group_1_results[name][0] = curr_max\n",
      "                group_1_results[name][1] = curr_pos\n",
      "                print ' '\n",
      "            \n",
      "    #################################################################\n",
      "    \n",
      "    if do_group_2:\n",
      "        for test in group_2:\n",
      "            print 'testing ',test[1],\n",
      "            name=test[0]\n",
      "            criteria=test[2]\n",
      "            placelist = test[3]\n",
      "            curr_max = group_2_results[name][0]\n",
      "            curr_pos = group_2_results[name][1]\n",
      "            orig_max = curr_max\n",
      "            for criterion in criteria:\n",
      "                found = True\n",
      "                while found == True:\n",
      "                    to_search = criterion[:curr_max]\n",
      "                    print to_search,\n",
      "                    found_pos = digits.find(to_search)\n",
      "                    if found_pos != -1 and found_pos < 100000000:\n",
      "                        found_pos += i * 100000000\n",
      "                        if curr_max == orig_max:\n",
      "                            if found_pos < curr_pos or curr_pos == 0:\n",
      "                                curr_pos = found_pos\n",
      "                        else:\n",
      "                            curr_pos = found_pos\n",
      "                        curr_max += 1\n",
      "                        while curr_max not in placelist:\n",
      "                            curr_max += 1\n",
      "                            if curr_max >25:\n",
      "                                break\n",
      "                    else:\n",
      "                        found = False\n",
      "                group_2_results[name][0] = curr_max\n",
      "                group_2_results[name][1] = curr_pos\n",
      "                print ' '\n",
      "            \n",
      "    ############################################################\n",
      "    \n",
      "    if do_group_3:\n",
      "        for test in group_3:\n",
      "            print 'testing ',test[1],\n",
      "            name=test[0]\n",
      "            criteria=test[2]\n",
      "            curr_max = group_3_results[name][0]\n",
      "            curr_pos = group_3_results[name][1]\n",
      "            orig_max = curr_max\n",
      "            for criterion in criteria:\n",
      "                found = True\n",
      "                while found == True:\n",
      "                    to_search = criterion + '{%s}' % (curr_max)\n",
      "                    print to_search,\n",
      "                    regexobj = re.search(to_search, digits)\n",
      "                    if regexobj:\n",
      "                        found_pos = regexobj.start()\n",
      "                        if found_pos < 100000000:\n",
      "                            found_pos += i * 100000000\n",
      "                            if curr_max == orig_max:\n",
      "                                if found_pos < curr_pos or curr_pos == 0:\n",
      "                                    curr_pos = found_pos\n",
      "                            else:\n",
      "                                curr_pos = found_pos\n",
      "                            curr_max += 1\n",
      "                        else:\n",
      "                            found = False\n",
      "                    else:\n",
      "                        found = False\n",
      "                group_3_results[name][0] = curr_max\n",
      "                group_3_results[name][1] = curr_pos\n",
      "                print ' '\n",
      "    \n",
      "    ##############################################################\n",
      "\n",
      "    if do_group_4:  \n",
      "        for item in group_4:\n",
      "            print 'testing ',item\n",
      "            start = group_4_results[item][0]\n",
      "            count = group_4_results[item][1]\n",
      "            reitobj = re.finditer(item,digits)\n",
      "            count = 0\n",
      "            for refobj in reitobj:\n",
      "                if count==0 and refobj.start() < 100000000:\n",
      "                    start = refobj.start()\n",
      "                if refobj.start() < 100000000:\n",
      "                    count += 1\n",
      "            if count > 0:\n",
      "                start += i * 100000000\n",
      "                if group_4_results[item][0] == 0:\n",
      "                    group_4_results[item][0] = start\n",
      "                group_4_results[item][1] += count\n",
      "    \n",
      "    #######################################################\n",
      "    \n",
      "    print '\\n==='\n",
      "    \n",
      "    print group_1_results # note all lengths are +1 due to fencepost counting\n",
      "    print group_2_results\n",
      "    print group_3_results\n",
      "    print group_4_results\n",
      "    print \"Total elapsed time: %0.1f minutes.\" % ((time.time() - starttime)/60)\n",
      "    print '\\n=================================================\\n\\n'\n",
      "\n",
      "if do_group_1:    \n",
      "    with open(constant+'_search_results_1', 'w+') as f1:\n",
      "        f1.write(json.dumps(group_1_results))\n",
      "if do_group_2:\n",
      "    with open(constant+'_search_results_2', 'w+') as f2:\n",
      "        f2.write(json.dumps(group_2_results))\n",
      "if do_group_3:\n",
      "    with open(constant+'_search_results_3', 'w+') as f3:\n",
      "        f3.write(json.dumps(group_3_results))\n",
      "if do_group_4:\n",
      "    with open(constant+'_search_results_4', 'w+') as f4:\n",
      "        f4.write(json.dumps(group_4_results))"
     ],
     "language": "python",
     "metadata": {},
     "outputs": [
      {
       "output_type": "stream",
       "stream": "stdout",
       "text": [
        "processing data/tau100m.dectxt.000\n",
        "testing  8675309\n",
        "testing "
       ]
      },
      {
       "output_type": "stream",
       "stream": "stdout",
       "text": [
        " 112263\n",
        "testing "
       ]
      },
      {
       "output_type": "stream",
       "stream": "stdout",
       "text": [
        " 18007476492568\n",
        "testing "
       ]
      },
      {
       "output_type": "stream",
       "stream": "stdout",
       "text": [
        " [^6]666\n",
        "testing "
       ]
      },
      {
       "output_type": "stream",
       "stream": "stdout",
       "text": [
        " 0123456789\n",
        "testing "
       ]
      },
      {
       "output_type": "stream",
       "stream": "stdout",
       "text": [
        " 9876543210\n",
        "\n",
        "==="
       ]
      },
      {
       "output_type": "stream",
       "stream": "stdout",
       "text": [
        "\n",
        "{'tau': [5, 0], 'e': [5, 0], 'rep': [5, 0], 'consec': [5, 0], 'pi': [5, 0], 'root2': [5, 0]}\n",
        "{'primes': [4, 0], 'fib1': [4, 0], 'fib0': [4, 0]}\n",
        "{'even': [5, 0], 'binary': [5, 0], '4 or less': [5, 0], '5 or more': [5, 0], 'primed': [5, 0], 'not': [5, 0], 'odd': [5, 0]}\n",
        "{'112263': [435270, 88], '8675309': [10224730, 9], '0123456789': [0, 0], '[^6]666': [1696, 80720], '9876543210': [0, 0], '18007476492568': [0, 0]}\n",
        "Total elapsed time: 0.1 minutes.\n",
        "\n",
        "=================================================\n",
        "\n",
        "\n",
        "processing"
       ]
      },
      {
       "output_type": "stream",
       "stream": "stdout",
       "text": [
        " data/tau100m.dectxt.001\n",
        "testing  8675309\n",
        "testing "
       ]
      },
      {
       "output_type": "stream",
       "stream": "stdout",
       "text": [
        " 112263\n",
        "testing "
       ]
      },
      {
       "output_type": "stream",
       "stream": "stdout",
       "text": [
        " 18007476492568\n",
        "testing "
       ]
      },
      {
       "output_type": "stream",
       "stream": "stdout",
       "text": [
        " [^6]666\n",
        "testing "
       ]
      },
      {
       "output_type": "stream",
       "stream": "stdout",
       "text": [
        " 0123456789\n",
        "testing "
       ]
      },
      {
       "output_type": "stream",
       "stream": "stdout",
       "text": [
        " 9876543210\n",
        "\n",
        "==="
       ]
      },
      {
       "output_type": "stream",
       "stream": "stdout",
       "text": [
        "\n",
        "{'tau': [5, 0], 'e': [5, 0], 'rep': [5, 0], 'consec': [5, 0], 'pi': [5, 0], 'root2': [5, 0]}\n",
        "{'primes': [4, 0], 'fib1': [4, 0], 'fib0': [4, 0]}\n",
        "{'even': [5, 0], 'binary': [5, 0], '4 or less': [5, 0], '5 or more': [5, 0], 'primed': [5, 0], 'not': [5, 0], 'odd': [5, 0]}\n",
        "{'112263': [435270, 176], '8675309': [10224730, 19], '0123456789': [0, 0], '[^6]666': [1696, 161957], '9876543210': [0, 0], '18007476492568': [0, 0]}\n",
        "Total elapsed time: 0.1 minutes.\n",
        "\n",
        "=================================================\n",
        "\n",
        "\n",
        "processing"
       ]
      },
      {
       "output_type": "stream",
       "stream": "stdout",
       "text": [
        " data/tau100m.dectxt.002\n",
        "testing  8675309\n",
        "testing "
       ]
      },
      {
       "output_type": "stream",
       "stream": "stdout",
       "text": [
        " 112263\n",
        "testing "
       ]
      },
      {
       "output_type": "stream",
       "stream": "stdout",
       "text": [
        " 18007476492568\n",
        "testing "
       ]
      },
      {
       "output_type": "stream",
       "stream": "stdout",
       "text": [
        " [^6]666\n",
        "testing "
       ]
      },
      {
       "output_type": "stream",
       "stream": "stdout",
       "text": [
        " 0123456789\n",
        "testing "
       ]
      },
      {
       "output_type": "stream",
       "stream": "stdout",
       "text": [
        " 9876543210\n",
        "\n",
        "==="
       ]
      },
      {
       "output_type": "stream",
       "stream": "stdout",
       "text": [
        "\n",
        "{'tau': [5, 0], 'e': [5, 0], 'rep': [5, 0], 'consec': [5, 0], 'pi': [5, 0], 'root2': [5, 0]}\n",
        "{'primes': [4, 0], 'fib1': [4, 0], 'fib0': [4, 0]}\n",
        "{'even': [5, 0], 'binary': [5, 0], '4 or less': [5, 0], '5 or more': [5, 0], 'primed': [5, 0], 'not': [5, 0], 'odd': [5, 0]}\n",
        "{'112263': [435270, 279], '8675309': [10224730, 26], '0123456789': [0, 0], '[^6]666': [1696, 243176], '9876543210': [0, 0], '18007476492568': [0, 0]}\n",
        "Total elapsed time: 0.2 minutes.\n",
        "\n",
        "=================================================\n",
        "\n",
        "\n",
        "processing"
       ]
      },
      {
       "output_type": "stream",
       "stream": "stdout",
       "text": [
        " data/tau100m.dectxt.003\n",
        "testing  8675309\n",
        "testing "
       ]
      },
      {
       "output_type": "stream",
       "stream": "stdout",
       "text": [
        " 112263\n",
        "testing "
       ]
      },
      {
       "output_type": "stream",
       "stream": "stdout",
       "text": [
        " 18007476492568\n",
        "testing "
       ]
      },
      {
       "output_type": "stream",
       "stream": "stdout",
       "text": [
        " [^6]666\n",
        "testing "
       ]
      },
      {
       "output_type": "stream",
       "stream": "stdout",
       "text": [
        " 0123456789\n",
        "testing "
       ]
      },
      {
       "output_type": "stream",
       "stream": "stdout",
       "text": [
        " 9876543210\n",
        "\n",
        "==="
       ]
      },
      {
       "output_type": "stream",
       "stream": "stdout",
       "text": [
        "\n",
        "{'tau': [5, 0], 'e': [5, 0], 'rep': [5, 0], 'consec': [5, 0], 'pi': [5, 0], 'root2': [5, 0]}\n",
        "{'primes': [4, 0], 'fib1': [4, 0], 'fib0': [4, 0]}\n",
        "{'even': [5, 0], 'binary': [5, 0], '4 or less': [5, 0], '5 or more': [5, 0], 'primed': [5, 0], 'not': [5, 0], 'odd': [5, 0]}\n",
        "{'112263': [435270, 358], '8675309': [10224730, 38], '0123456789': [0, 0], '[^6]666': [1696, 323935], '9876543210': [0, 0], '18007476492568': [0, 0]}\n",
        "Total elapsed time: 0.2 minutes.\n",
        "\n",
        "=================================================\n",
        "\n",
        "\n",
        "processing"
       ]
      },
      {
       "output_type": "stream",
       "stream": "stdout",
       "text": [
        " data/tau100m.dectxt.004\n",
        "testing  8675309\n",
        "testing "
       ]
      },
      {
       "output_type": "stream",
       "stream": "stdout",
       "text": [
        " 112263\n",
        "testing "
       ]
      },
      {
       "output_type": "stream",
       "stream": "stdout",
       "text": [
        " 18007476492568\n",
        "testing "
       ]
      },
      {
       "output_type": "stream",
       "stream": "stdout",
       "text": [
        " [^6]666\n",
        "testing "
       ]
      },
      {
       "output_type": "stream",
       "stream": "stdout",
       "text": [
        " 0123456789\n",
        "testing "
       ]
      },
      {
       "output_type": "stream",
       "stream": "stdout",
       "text": [
        " 9876543210\n",
        "\n",
        "==="
       ]
      },
      {
       "output_type": "stream",
       "stream": "stdout",
       "text": [
        "\n",
        "{'tau': [5, 0], 'e': [5, 0], 'rep': [5, 0], 'consec': [5, 0], 'pi': [5, 0], 'root2': [5, 0]}\n",
        "{'primes': [4, 0], 'fib1': [4, 0], 'fib0': [4, 0]}\n",
        "{'even': [5, 0], 'binary': [5, 0], '4 or less': [5, 0], '5 or more': [5, 0], 'primed': [5, 0], 'not': [5, 0], 'odd': [5, 0]}\n",
        "{'112263': [435270, 452], '8675309': [10224730, 48], '0123456789': [0, 0], '[^6]666': [1696, 404858], '9876543210': [0, 0], '18007476492568': [0, 0]}\n",
        "Total elapsed time: 0.3 minutes.\n",
        "\n",
        "=================================================\n",
        "\n",
        "\n",
        "processing"
       ]
      },
      {
       "output_type": "stream",
       "stream": "stdout",
       "text": [
        " data/tau100m.dectxt.005\n",
        "testing  8675309\n",
        "testing "
       ]
      },
      {
       "output_type": "stream",
       "stream": "stdout",
       "text": [
        " 112263\n",
        "testing "
       ]
      },
      {
       "output_type": "stream",
       "stream": "stdout",
       "text": [
        " 18007476492568\n",
        "testing "
       ]
      },
      {
       "output_type": "stream",
       "stream": "stdout",
       "text": [
        " [^6]666\n",
        "testing "
       ]
      },
      {
       "output_type": "stream",
       "stream": "stdout",
       "text": [
        " 0123456789\n",
        "testing "
       ]
      },
      {
       "output_type": "stream",
       "stream": "stdout",
       "text": [
        " 9876543210\n",
        "\n",
        "==="
       ]
      },
      {
       "output_type": "stream",
       "stream": "stdout",
       "text": [
        "\n",
        "{'tau': [5, 0], 'e': [5, 0], 'rep': [5, 0], 'consec': [5, 0], 'pi': [5, 0], 'root2': [5, 0]}\n",
        "{'primes': [4, 0], 'fib1': [4, 0], 'fib0': [4, 0]}\n",
        "{'even': [5, 0], 'binary': [5, 0], '4 or less': [5, 0], '5 or more': [5, 0], 'primed': [5, 0], 'not': [5, 0], 'odd': [5, 0]}\n",
        "{'112263': [435270, 540], '8675309': [10224730, 58], '0123456789': [0, 0], '[^6]666': [1696, 486121], '9876543210': [0, 0], '18007476492568': [0, 0]}\n",
        "Total elapsed time: 0.4 minutes.\n",
        "\n",
        "=================================================\n",
        "\n",
        "\n",
        "processing"
       ]
      },
      {
       "output_type": "stream",
       "stream": "stdout",
       "text": [
        " data/tau100m.dectxt.006\n",
        "testing  8675309\n",
        "testing "
       ]
      },
      {
       "output_type": "stream",
       "stream": "stdout",
       "text": [
        " 112263\n",
        "testing "
       ]
      },
      {
       "output_type": "stream",
       "stream": "stdout",
       "text": [
        " 18007476492568\n",
        "testing "
       ]
      },
      {
       "output_type": "stream",
       "stream": "stdout",
       "text": [
        " [^6]666\n",
        "testing "
       ]
      },
      {
       "output_type": "stream",
       "stream": "stdout",
       "text": [
        " 0123456789\n",
        "testing "
       ]
      },
      {
       "output_type": "stream",
       "stream": "stdout",
       "text": [
        " 9876543210\n",
        "\n",
        "==="
       ]
      },
      {
       "output_type": "stream",
       "stream": "stdout",
       "text": [
        "\n",
        "{'tau': [5, 0], 'e': [5, 0], 'rep': [5, 0], 'consec': [5, 0], 'pi': [5, 0], 'root2': [5, 0]}\n",
        "{'primes': [4, 0], 'fib1': [4, 0], 'fib0': [4, 0]}\n",
        "{'even': [5, 0], 'binary': [5, 0], '4 or less': [5, 0], '5 or more': [5, 0], 'primed': [5, 0], 'not': [5, 0], 'odd': [5, 0]}\n",
        "{'112263': [435270, 630], '8675309': [10224730, 69], '0123456789': [0, 0], '[^6]666': [1696, 567074], '9876543210': [0, 0], '18007476492568': [0, 0]}\n",
        "Total elapsed time: 0.4 minutes.\n",
        "\n",
        "=================================================\n",
        "\n",
        "\n",
        "processing"
       ]
      },
      {
       "output_type": "stream",
       "stream": "stdout",
       "text": [
        " data/tau100m.dectxt.007\n",
        "testing  8675309\n",
        "testing "
       ]
      },
      {
       "output_type": "stream",
       "stream": "stdout",
       "text": [
        " 112263\n",
        "testing "
       ]
      },
      {
       "output_type": "stream",
       "stream": "stdout",
       "text": [
        " 18007476492568\n",
        "testing "
       ]
      },
      {
       "output_type": "stream",
       "stream": "stdout",
       "text": [
        " [^6]666\n",
        "testing "
       ]
      },
      {
       "output_type": "stream",
       "stream": "stdout",
       "text": [
        " 0123456789\n",
        "testing "
       ]
      },
      {
       "output_type": "stream",
       "stream": "stdout",
       "text": [
        " 9876543210\n",
        "\n",
        "==="
       ]
      },
      {
       "output_type": "stream",
       "stream": "stdout",
       "text": [
        "\n",
        "{'tau': [5, 0], 'e': [5, 0], 'rep': [5, 0], 'consec': [5, 0], 'pi': [5, 0], 'root2': [5, 0]}\n",
        "{'primes': [4, 0], 'fib1': [4, 0], 'fib0': [4, 0]}\n",
        "{'even': [5, 0], 'binary': [5, 0], '4 or less': [5, 0], '5 or more': [5, 0], 'primed': [5, 0], 'not': [5, 0], 'odd': [5, 0]}\n",
        "{'112263': [435270, 716], '8675309': [10224730, 79], '0123456789': [0, 0], '[^6]666': [1696, 648129], '9876543210': [0, 0], '18007476492568': [0, 0]}\n",
        "Total elapsed time: 0.5 minutes.\n",
        "\n",
        "=================================================\n",
        "\n",
        "\n",
        "processing"
       ]
      },
      {
       "output_type": "stream",
       "stream": "stdout",
       "text": [
        " data/tau100m.dectxt.008\n",
        "testing  8675309\n",
        "testing "
       ]
      },
      {
       "output_type": "stream",
       "stream": "stdout",
       "text": [
        " 112263\n",
        "testing "
       ]
      },
      {
       "output_type": "stream",
       "stream": "stdout",
       "text": [
        " 18007476492568\n",
        "testing "
       ]
      },
      {
       "output_type": "stream",
       "stream": "stdout",
       "text": [
        " [^6]666\n",
        "testing "
       ]
      },
      {
       "output_type": "stream",
       "stream": "stdout",
       "text": [
        " 0123456789\n",
        "testing "
       ]
      },
      {
       "output_type": "stream",
       "stream": "stdout",
       "text": [
        " 9876543210\n",
        "\n",
        "==="
       ]
      },
      {
       "output_type": "stream",
       "stream": "stdout",
       "text": [
        "\n",
        "{'tau': [5, 0], 'e': [5, 0], 'rep': [5, 0], 'consec': [5, 0], 'pi': [5, 0], 'root2': [5, 0]}\n",
        "{'primes': [4, 0], 'fib1': [4, 0], 'fib0': [4, 0]}\n",
        "{'even': [5, 0], 'binary': [5, 0], '4 or less': [5, 0], '5 or more': [5, 0], 'primed': [5, 0], 'not': [5, 0], 'odd': [5, 0]}\n",
        "{'112263': [435270, 804], '8675309': [10224730, 83], '0123456789': [0, 0], '[^6]666': [1696, 729360], '9876543210': [0, 0], '18007476492568': [0, 0]}\n",
        "Total elapsed time: 0.5 minutes.\n",
        "\n",
        "=================================================\n",
        "\n",
        "\n",
        "processing"
       ]
      },
      {
       "output_type": "stream",
       "stream": "stdout",
       "text": [
        " data/tau100m.dectxt.009\n",
        "testing  8675309\n",
        "testing "
       ]
      },
      {
       "output_type": "stream",
       "stream": "stdout",
       "text": [
        " 112263\n",
        "testing "
       ]
      },
      {
       "output_type": "stream",
       "stream": "stdout",
       "text": [
        " 18007476492568\n",
        "testing "
       ]
      },
      {
       "output_type": "stream",
       "stream": "stdout",
       "text": [
        " [^6]666\n",
        "testing "
       ]
      },
      {
       "output_type": "stream",
       "stream": "stdout",
       "text": [
        " 0123456789\n",
        "testing "
       ]
      },
      {
       "output_type": "stream",
       "stream": "stdout",
       "text": [
        " 9876543210\n",
        "\n",
        "==="
       ]
      },
      {
       "output_type": "stream",
       "stream": "stdout",
       "text": [
        "\n",
        "{'tau': [5, 0], 'e': [5, 0], 'rep': [5, 0], 'consec': [5, 0], 'pi': [5, 0], 'root2': [5, 0]}\n",
        "{'primes': [4, 0], 'fib1': [4, 0], 'fib0': [4, 0]}\n",
        "{'even': [5, 0], 'binary': [5, 0], '4 or less': [5, 0], '5 or more': [5, 0], 'primed': [5, 0], 'not': [5, 0], 'odd': [5, 0]}\n",
        "{'112263': [435270, 895], '8675309': [10224730, 94], '0123456789': [0, 0], '[^6]666': [1696, 810352], '9876543210': [0, 0], '18007476492568': [0, 0]}\n",
        "Total elapsed time: 0.6 minutes.\n",
        "\n",
        "=================================================\n",
        "\n",
        "\n"
       ]
      }
     ],
     "prompt_number": 4
    },
    {
     "cell_type": "code",
     "collapsed": false,
     "input": [],
     "language": "python",
     "metadata": {},
     "outputs": []
    }
   ],
   "metadata": {}
  }
 ]
}